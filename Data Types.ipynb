{
 "cells": [
  {
   "cell_type": "markdown",
   "id": "9eb95dfa",
   "metadata": {},
   "source": [
    "# Data Types"
   ]
  },
  {
   "cell_type": "code",
   "execution_count": 2,
   "id": "d7c0d98f",
   "metadata": {},
   "outputs": [],
   "source": [
    "# Press shift+enter to run the code!!\n",
    "# integers are whole numbers\n",
    "# floats are decimals\n",
    "x = 5\n",
    "y = 5.0"
   ]
  },
  {
   "cell_type": "code",
   "execution_count": 3,
   "id": "5ff91549",
   "metadata": {},
   "outputs": [
    {
     "name": "stdout",
     "output_type": "stream",
     "text": [
      "<class 'int'>\n"
     ]
    }
   ],
   "source": [
    "print(type(x))"
   ]
  },
  {
   "cell_type": "code",
   "execution_count": 4,
   "id": "bfe7ca17",
   "metadata": {},
   "outputs": [
    {
     "name": "stdout",
     "output_type": "stream",
     "text": [
      "<class 'float'>\n"
     ]
    }
   ],
   "source": [
    "print(type(y))"
   ]
  },
  {
   "cell_type": "code",
   "execution_count": 5,
   "id": "dcf61117",
   "metadata": {},
   "outputs": [],
   "source": [
    "# Dictionaries are key: value pairs\n",
    "breakfast = {\"eggs\":18,\n",
    "            \"bacon\":10}"
   ]
  },
  {
   "cell_type": "code",
   "execution_count": 6,
   "id": "a2dd8842",
   "metadata": {},
   "outputs": [
    {
     "name": "stdout",
     "output_type": "stream",
     "text": [
      "18\n"
     ]
    }
   ],
   "source": [
    "print(breakfast[\"eggs\"])"
   ]
  },
  {
   "cell_type": "code",
   "execution_count": 8,
   "id": "b76308b9",
   "metadata": {},
   "outputs": [
    {
     "name": "stdout",
     "output_type": "stream",
     "text": [
      "<class 'bool'>\n"
     ]
    }
   ],
   "source": [
    "# Boolean\n",
    "is_true = False\n",
    "print(type(is_true))"
   ]
  },
  {
   "cell_type": "code",
   "execution_count": 9,
   "id": "01332f1f",
   "metadata": {},
   "outputs": [
    {
     "name": "stdout",
     "output_type": "stream",
     "text": [
      "{'eggs', 'coffee', 'bacon'}\n"
     ]
    }
   ],
   "source": [
    "#sets have unordered values and unchangeable values (immutable)\n",
    "breakfast_set = {\"eggs\", \"bacon\"}\n",
    "# Can add items to a set ( but only if its not there yet)\n",
    "breakfast_set.add(\"coffee\")\n",
    "\n",
    "print(breakfast_set)"
   ]
  },
  {
   "cell_type": "code",
   "execution_count": 10,
   "id": "c64ee7ba",
   "metadata": {},
   "outputs": [
    {
     "data": {
      "text/plain": [
       "'January'"
      ]
     },
     "execution_count": 10,
     "metadata": {},
     "output_type": "execute_result"
    }
   ],
   "source": [
    "# List values can be changed and they are ordered \n",
    "months = [\"January\", \"February\", \"March\"]\n",
    "months[0]\n"
   ]
  },
  {
   "cell_type": "code",
   "execution_count": 11,
   "id": "f4af174e",
   "metadata": {},
   "outputs": [
    {
     "data": {
      "text/plain": [
       "'coffee'"
      ]
     },
     "execution_count": 11,
     "metadata": {},
     "output_type": "execute_result"
    }
   ],
   "source": [
    "# tuples are ordered but unchangeable (immutable)\n",
    "breakfast_tuple = (\"coffee\", \"bagels\", \"cereal\")\n",
    "breakfast_tuple[0]"
   ]
  },
  {
   "cell_type": "code",
   "execution_count": 13,
   "id": "6751c27c",
   "metadata": {},
   "outputs": [
    {
     "name": "stdout",
     "output_type": "stream",
     "text": [
      "3\n"
     ]
    }
   ],
   "source": [
    "print(len(breakfast_tuple))"
   ]
  },
  {
   "cell_type": "code",
   "execution_count": 14,
   "id": "2f9772a0",
   "metadata": {},
   "outputs": [
    {
     "name": "stdout",
     "output_type": "stream",
     "text": [
      "hello world\n"
     ]
    }
   ],
   "source": [
    "print(\"hello world\")"
   ]
  },
  {
   "cell_type": "code",
   "execution_count": 1,
   "id": "2d299628",
   "metadata": {},
   "outputs": [
    {
     "name": "stdout",
     "output_type": "stream",
     "text": [
      "test saved\n"
     ]
    }
   ],
   "source": [
    "print(\"test saved\")"
   ]
  },
  {
   "cell_type": "code",
   "execution_count": null,
   "id": "6b0028af",
   "metadata": {},
   "outputs": [],
   "source": []
  }
 ],
 "metadata": {
  "kernelspec": {
   "display_name": "Python 3 (ipykernel)",
   "language": "python",
   "name": "python3"
  },
  "language_info": {
   "codemirror_mode": {
    "name": "ipython",
    "version": 3
   },
   "file_extension": ".py",
   "mimetype": "text/x-python",
   "name": "python",
   "nbconvert_exporter": "python",
   "pygments_lexer": "ipython3",
   "version": "3.9.7"
  }
 },
 "nbformat": 4,
 "nbformat_minor": 5
}
