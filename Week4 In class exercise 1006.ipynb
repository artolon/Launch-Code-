{
 "cells": [
  {
   "cell_type": "code",
   "execution_count": 1,
   "id": "5d537aa4",
   "metadata": {},
   "outputs": [],
   "source": [
    "import pandas as pd"
   ]
  },
  {
   "cell_type": "code",
   "execution_count": 2,
   "id": "79ca362f",
   "metadata": {},
   "outputs": [],
   "source": [
    "belize_listings_path = \"belize_airbnb_listings.csv\"\n",
    "belize_df = pd.read_csv(belize_listings_path)"
   ]
  },
  {
   "cell_type": "markdown",
   "id": "7a8f12ef",
   "metadata": {},
   "source": [
    "1. Import the Belize_Airbnb_listings csv.\n",
    "- Create a new dataframe that takes the original dataset and groups the data by neighborhood and finds the average price, number of reviews, and availability_365. \n",
    "- In short, you’re looking for the average price, number of reviews, and availability per neighborhood."
   ]
  },
  {
   "cell_type": "code",
   "execution_count": 10,
   "id": "3254588b",
   "metadata": {},
   "outputs": [],
   "source": [
    "# Group by neighbourhood\n",
    "\n",
    "grouped_belize_df = belize_df.groupby(\"neighbourhood\")"
   ]
  },
  {
   "cell_type": "code",
   "execution_count": 7,
   "id": "f940ce8b",
   "metadata": {},
   "outputs": [
    {
     "data": {
      "text/html": [
       "<div>\n",
       "<style scoped>\n",
       "    .dataframe tbody tr th:only-of-type {\n",
       "        vertical-align: middle;\n",
       "    }\n",
       "\n",
       "    .dataframe tbody tr th {\n",
       "        vertical-align: top;\n",
       "    }\n",
       "\n",
       "    .dataframe thead th {\n",
       "        text-align: right;\n",
       "    }\n",
       "</style>\n",
       "<table border=\"1\" class=\"dataframe\">\n",
       "  <thead>\n",
       "    <tr style=\"text-align: right;\">\n",
       "      <th></th>\n",
       "      <th>id</th>\n",
       "      <th>name</th>\n",
       "      <th>host_id</th>\n",
       "      <th>host_name</th>\n",
       "      <th>neighbourhood_group</th>\n",
       "      <th>latitude</th>\n",
       "      <th>longitude</th>\n",
       "      <th>room_type</th>\n",
       "      <th>price</th>\n",
       "      <th>minimum_nights</th>\n",
       "      <th>number_of_reviews</th>\n",
       "      <th>last_review</th>\n",
       "      <th>reviews_per_month</th>\n",
       "      <th>calculated_host_listings_count</th>\n",
       "      <th>availability_365</th>\n",
       "    </tr>\n",
       "    <tr>\n",
       "      <th>neighbourhood</th>\n",
       "      <th></th>\n",
       "      <th></th>\n",
       "      <th></th>\n",
       "      <th></th>\n",
       "      <th></th>\n",
       "      <th></th>\n",
       "      <th></th>\n",
       "      <th></th>\n",
       "      <th></th>\n",
       "      <th></th>\n",
       "      <th></th>\n",
       "      <th></th>\n",
       "      <th></th>\n",
       "      <th></th>\n",
       "      <th></th>\n",
       "    </tr>\n",
       "  </thead>\n",
       "  <tbody>\n",
       "    <tr>\n",
       "      <th>Belize Islands</th>\n",
       "      <td>1303</td>\n",
       "      <td>1303</td>\n",
       "      <td>1303</td>\n",
       "      <td>1303</td>\n",
       "      <td>1303</td>\n",
       "      <td>1303</td>\n",
       "      <td>1303</td>\n",
       "      <td>1303</td>\n",
       "      <td>1303</td>\n",
       "      <td>1303</td>\n",
       "      <td>1303</td>\n",
       "      <td>864</td>\n",
       "      <td>864</td>\n",
       "      <td>1303</td>\n",
       "      <td>1303</td>\n",
       "    </tr>\n",
       "    <tr>\n",
       "      <th>Belize Mainland</th>\n",
       "      <td>271</td>\n",
       "      <td>271</td>\n",
       "      <td>271</td>\n",
       "      <td>271</td>\n",
       "      <td>271</td>\n",
       "      <td>271</td>\n",
       "      <td>271</td>\n",
       "      <td>271</td>\n",
       "      <td>271</td>\n",
       "      <td>271</td>\n",
       "      <td>271</td>\n",
       "      <td>174</td>\n",
       "      <td>174</td>\n",
       "      <td>271</td>\n",
       "      <td>271</td>\n",
       "    </tr>\n",
       "    <tr>\n",
       "      <th>Cayo</th>\n",
       "      <td>505</td>\n",
       "      <td>505</td>\n",
       "      <td>505</td>\n",
       "      <td>505</td>\n",
       "      <td>505</td>\n",
       "      <td>505</td>\n",
       "      <td>505</td>\n",
       "      <td>505</td>\n",
       "      <td>505</td>\n",
       "      <td>505</td>\n",
       "      <td>505</td>\n",
       "      <td>330</td>\n",
       "      <td>330</td>\n",
       "      <td>505</td>\n",
       "      <td>505</td>\n",
       "    </tr>\n",
       "    <tr>\n",
       "      <th>Corozal</th>\n",
       "      <td>65</td>\n",
       "      <td>65</td>\n",
       "      <td>65</td>\n",
       "      <td>65</td>\n",
       "      <td>65</td>\n",
       "      <td>65</td>\n",
       "      <td>65</td>\n",
       "      <td>65</td>\n",
       "      <td>65</td>\n",
       "      <td>65</td>\n",
       "      <td>65</td>\n",
       "      <td>33</td>\n",
       "      <td>33</td>\n",
       "      <td>65</td>\n",
       "      <td>65</td>\n",
       "    </tr>\n",
       "    <tr>\n",
       "      <th>Orange Walk</th>\n",
       "      <td>28</td>\n",
       "      <td>28</td>\n",
       "      <td>28</td>\n",
       "      <td>28</td>\n",
       "      <td>28</td>\n",
       "      <td>28</td>\n",
       "      <td>28</td>\n",
       "      <td>28</td>\n",
       "      <td>28</td>\n",
       "      <td>28</td>\n",
       "      <td>28</td>\n",
       "      <td>16</td>\n",
       "      <td>16</td>\n",
       "      <td>28</td>\n",
       "      <td>28</td>\n",
       "    </tr>\n",
       "    <tr>\n",
       "      <th>Stann Creek Islands</th>\n",
       "      <td>12</td>\n",
       "      <td>12</td>\n",
       "      <td>12</td>\n",
       "      <td>12</td>\n",
       "      <td>12</td>\n",
       "      <td>12</td>\n",
       "      <td>12</td>\n",
       "      <td>12</td>\n",
       "      <td>12</td>\n",
       "      <td>12</td>\n",
       "      <td>12</td>\n",
       "      <td>5</td>\n",
       "      <td>5</td>\n",
       "      <td>12</td>\n",
       "      <td>12</td>\n",
       "    </tr>\n",
       "    <tr>\n",
       "      <th>Stann Creek Mainland</th>\n",
       "      <td>565</td>\n",
       "      <td>565</td>\n",
       "      <td>565</td>\n",
       "      <td>565</td>\n",
       "      <td>565</td>\n",
       "      <td>565</td>\n",
       "      <td>565</td>\n",
       "      <td>565</td>\n",
       "      <td>565</td>\n",
       "      <td>565</td>\n",
       "      <td>565</td>\n",
       "      <td>362</td>\n",
       "      <td>362</td>\n",
       "      <td>565</td>\n",
       "      <td>565</td>\n",
       "    </tr>\n",
       "    <tr>\n",
       "      <th>Toledo Mainland</th>\n",
       "      <td>47</td>\n",
       "      <td>47</td>\n",
       "      <td>47</td>\n",
       "      <td>47</td>\n",
       "      <td>47</td>\n",
       "      <td>47</td>\n",
       "      <td>47</td>\n",
       "      <td>47</td>\n",
       "      <td>47</td>\n",
       "      <td>47</td>\n",
       "      <td>47</td>\n",
       "      <td>26</td>\n",
       "      <td>26</td>\n",
       "      <td>47</td>\n",
       "      <td>47</td>\n",
       "    </tr>\n",
       "  </tbody>\n",
       "</table>\n",
       "</div>"
      ],
      "text/plain": [
       "                        id  name  host_id  host_name  neighbourhood_group  \\\n",
       "neighbourhood                                                               \n",
       "Belize Islands        1303  1303     1303       1303                 1303   \n",
       "Belize Mainland        271   271      271        271                  271   \n",
       "Cayo                   505   505      505        505                  505   \n",
       "Corozal                 65    65       65         65                   65   \n",
       "Orange Walk             28    28       28         28                   28   \n",
       "Stann Creek Islands     12    12       12         12                   12   \n",
       "Stann Creek Mainland   565   565      565        565                  565   \n",
       "Toledo Mainland         47    47       47         47                   47   \n",
       "\n",
       "                      latitude  longitude  room_type  price  minimum_nights  \\\n",
       "neighbourhood                                                                 \n",
       "Belize Islands            1303       1303       1303   1303            1303   \n",
       "Belize Mainland            271        271        271    271             271   \n",
       "Cayo                       505        505        505    505             505   \n",
       "Corozal                     65         65         65     65              65   \n",
       "Orange Walk                 28         28         28     28              28   \n",
       "Stann Creek Islands         12         12         12     12              12   \n",
       "Stann Creek Mainland       565        565        565    565             565   \n",
       "Toledo Mainland             47         47         47     47              47   \n",
       "\n",
       "                      number_of_reviews  last_review  reviews_per_month  \\\n",
       "neighbourhood                                                             \n",
       "Belize Islands                     1303          864                864   \n",
       "Belize Mainland                     271          174                174   \n",
       "Cayo                                505          330                330   \n",
       "Corozal                              65           33                 33   \n",
       "Orange Walk                          28           16                 16   \n",
       "Stann Creek Islands                  12            5                  5   \n",
       "Stann Creek Mainland                565          362                362   \n",
       "Toledo Mainland                      47           26                 26   \n",
       "\n",
       "                      calculated_host_listings_count  availability_365  \n",
       "neighbourhood                                                           \n",
       "Belize Islands                                  1303              1303  \n",
       "Belize Mainland                                  271               271  \n",
       "Cayo                                             505               505  \n",
       "Corozal                                           65                65  \n",
       "Orange Walk                                       28                28  \n",
       "Stann Creek Islands                               12                12  \n",
       "Stann Creek Mainland                             565               565  \n",
       "Toledo Mainland                                   47                47  "
      ]
     },
     "execution_count": 7,
     "metadata": {},
     "output_type": "execute_result"
    }
   ],
   "source": [
    "# Examine data set\n",
    "grouped_belize_df.count()"
   ]
  },
  {
   "cell_type": "code",
   "execution_count": 20,
   "id": "15dd852b",
   "metadata": {},
   "outputs": [
    {
     "data": {
      "text/plain": [
       "neighbourhood\n",
       "Belize Islands           399.442824\n",
       "Belize Mainland          288.273063\n",
       "Cayo                     205.847525\n",
       "Corozal                  156.553846\n",
       "Orange Walk              122.035714\n",
       "Stann Creek Islands     1136.166667\n",
       "Stann Creek Mainland     456.994690\n",
       "Toledo Mainland          222.978723\n",
       "Name: price, dtype: float64"
      ]
     },
     "execution_count": 20,
     "metadata": {},
     "output_type": "execute_result"
    }
   ],
   "source": [
    "# Find average price\n",
    "grouped_belize_df[\"price\"].mean()"
   ]
  },
  {
   "cell_type": "code",
   "execution_count": 18,
   "id": "39ccb259",
   "metadata": {},
   "outputs": [
    {
     "data": {
      "text/plain": [
       "neighbourhood\n",
       "Belize Islands          864\n",
       "Belize Mainland         174\n",
       "Cayo                    330\n",
       "Corozal                  33\n",
       "Orange Walk              16\n",
       "Stann Creek Islands       5\n",
       "Stann Creek Mainland    362\n",
       "Toledo Mainland          26\n",
       "Name: reviews_per_month, dtype: int64"
      ]
     },
     "execution_count": 18,
     "metadata": {},
     "output_type": "execute_result"
    }
   ],
   "source": [
    "# Find total reviews per month\n",
    "grouped_belize_df[\"reviews_per_month\"].count()"
   ]
  },
  {
   "cell_type": "code",
   "execution_count": 19,
   "id": "caa2d76b",
   "metadata": {},
   "outputs": [
    {
     "data": {
      "text/plain": [
       "neighbourhood\n",
       "Belize Islands          1303\n",
       "Belize Mainland          271\n",
       "Cayo                     505\n",
       "Corozal                   65\n",
       "Orange Walk               28\n",
       "Stann Creek Islands       12\n",
       "Stann Creek Mainland     565\n",
       "Toledo Mainland           47\n",
       "Name: availability_365, dtype: int64"
      ]
     },
     "execution_count": 19,
     "metadata": {},
     "output_type": "execute_result"
    }
   ],
   "source": [
    "# Find total availability\n",
    "grouped_belize_df[\"availability_365\"].count()"
   ]
  },
  {
   "cell_type": "code",
   "execution_count": 22,
   "id": "10ec0c06",
   "metadata": {},
   "outputs": [
    {
     "data": {
      "text/html": [
       "<div>\n",
       "<style scoped>\n",
       "    .dataframe tbody tr th:only-of-type {\n",
       "        vertical-align: middle;\n",
       "    }\n",
       "\n",
       "    .dataframe tbody tr th {\n",
       "        vertical-align: top;\n",
       "    }\n",
       "\n",
       "    .dataframe thead th {\n",
       "        text-align: right;\n",
       "    }\n",
       "</style>\n",
       "<table border=\"1\" class=\"dataframe\">\n",
       "  <thead>\n",
       "    <tr style=\"text-align: right;\">\n",
       "      <th></th>\n",
       "      <th>price</th>\n",
       "      <th>reviews_per_month</th>\n",
       "      <th>availability_365</th>\n",
       "    </tr>\n",
       "    <tr>\n",
       "      <th>neighbourhood</th>\n",
       "      <th></th>\n",
       "      <th></th>\n",
       "      <th></th>\n",
       "    </tr>\n",
       "  </thead>\n",
       "  <tbody>\n",
       "    <tr>\n",
       "      <th>Belize Islands</th>\n",
       "      <td>399.442824</td>\n",
       "      <td>864</td>\n",
       "      <td>1303</td>\n",
       "    </tr>\n",
       "    <tr>\n",
       "      <th>Belize Mainland</th>\n",
       "      <td>288.273063</td>\n",
       "      <td>174</td>\n",
       "      <td>271</td>\n",
       "    </tr>\n",
       "    <tr>\n",
       "      <th>Cayo</th>\n",
       "      <td>205.847525</td>\n",
       "      <td>330</td>\n",
       "      <td>505</td>\n",
       "    </tr>\n",
       "    <tr>\n",
       "      <th>Corozal</th>\n",
       "      <td>156.553846</td>\n",
       "      <td>33</td>\n",
       "      <td>65</td>\n",
       "    </tr>\n",
       "    <tr>\n",
       "      <th>Orange Walk</th>\n",
       "      <td>122.035714</td>\n",
       "      <td>16</td>\n",
       "      <td>28</td>\n",
       "    </tr>\n",
       "    <tr>\n",
       "      <th>Stann Creek Islands</th>\n",
       "      <td>1136.166667</td>\n",
       "      <td>5</td>\n",
       "      <td>12</td>\n",
       "    </tr>\n",
       "    <tr>\n",
       "      <th>Stann Creek Mainland</th>\n",
       "      <td>456.994690</td>\n",
       "      <td>362</td>\n",
       "      <td>565</td>\n",
       "    </tr>\n",
       "    <tr>\n",
       "      <th>Toledo Mainland</th>\n",
       "      <td>222.978723</td>\n",
       "      <td>26</td>\n",
       "      <td>47</td>\n",
       "    </tr>\n",
       "  </tbody>\n",
       "</table>\n",
       "</div>"
      ],
      "text/plain": [
       "                            price  reviews_per_month  availability_365\n",
       "neighbourhood                                                         \n",
       "Belize Islands         399.442824                864              1303\n",
       "Belize Mainland        288.273063                174               271\n",
       "Cayo                   205.847525                330               505\n",
       "Corozal                156.553846                 33                65\n",
       "Orange Walk            122.035714                 16                28\n",
       "Stann Creek Islands   1136.166667                  5                12\n",
       "Stann Creek Mainland   456.994690                362               565\n",
       "Toledo Mainland        222.978723                 26                47"
      ]
     },
     "execution_count": 22,
     "metadata": {},
     "output_type": "execute_result"
    }
   ],
   "source": [
    "# Try to put it all together\n",
    "new_df = grouped_belize_df.agg({\"price\":'mean', \"reviews_per_month\":'count', \"availability_365\":'count'})\n",
    "new_df"
   ]
  },
  {
   "cell_type": "markdown",
   "id": "4b63153a",
   "metadata": {},
   "source": [
    "2. Take the following list and create a new list from the square of each value. \n",
    "- og_list=[2, 4, 6, 8, 10, 12, 14]\n"
   ]
  },
  {
   "cell_type": "code",
   "execution_count": 37,
   "id": "10a41a9f",
   "metadata": {},
   "outputs": [
    {
     "name": "stdout",
     "output_type": "stream",
     "text": [
      "[2, 4, 6, 8, 10, 12, 14]\n"
     ]
    }
   ],
   "source": [
    "og_list=[2, 4, 6, 8, 10, 12, 14]\n",
    "print(og_list)"
   ]
  },
  {
   "cell_type": "code",
   "execution_count": 36,
   "id": "0ed7216a",
   "metadata": {},
   "outputs": [
    {
     "name": "stdout",
     "output_type": "stream",
     "text": [
      "[4, 16, 36, 64, 100, 144, 196]\n"
     ]
    }
   ],
   "source": [
    "# List comprehension method\n",
    "new_list=[i**2 for i in og_list]\n",
    "print(new_list)"
   ]
  },
  {
   "cell_type": "markdown",
   "id": "7798dae4",
   "metadata": {},
   "source": [
    "3. Take the same list from the previous question and create a new list but where each value is 2/3\n"
   ]
  },
  {
   "cell_type": "code",
   "execution_count": 38,
   "id": "c3d97285",
   "metadata": {},
   "outputs": [
    {
     "name": "stdout",
     "output_type": "stream",
     "text": [
      "[2.6666666666666665, 10.666666666666666, 24.0, 42.666666666666664, 66.66666666666666, 96.0, 130.66666666666666]\n"
     ]
    }
   ],
   "source": [
    "newest_list=[i*(2/3) for i in new_list]\n",
    "print(newest_list)"
   ]
  },
  {
   "cell_type": "markdown",
   "id": "0a615745",
   "metadata": {},
   "source": [
    "4. Write a list comprehension or function to lowercase all the keys in the below dictionary. The data represents how many pounds of each fruit a canning company is ordering."
   ]
  },
  {
   "cell_type": "code",
   "execution_count": 40,
   "id": "0d296033",
   "metadata": {},
   "outputs": [
    {
     "name": "stdout",
     "output_type": "stream",
     "text": [
      "{'Apples': 1500, 'Cranberries': 2000, 'Pears': 2500, 'Cherries': 1600, 'Plums': 2400, 'Peaches': 13600, 'Oranges': 7}\n"
     ]
    }
   ],
   "source": [
    "# Here is the dictionary\n",
    "my_dict={\"Apples\": 1500, \"Cranberries\": 2000, \"Pears\": 2500, \"Cherries\": 1600, \"Plums\": 2400,\n",
    "\"Peaches\": 13600, \"Oranges\": 7}\n",
    "print(my_dict)"
   ]
  },
  {
   "cell_type": "code",
   "execution_count": 43,
   "id": "0c68d73b",
   "metadata": {},
   "outputs": [
    {
     "name": "stdout",
     "output_type": "stream",
     "text": [
      "apples 1500\n",
      "cranberries 2000\n",
      "pears 2500\n",
      "cherries 1600\n",
      "plums 2400\n",
      "peaches 13600\n",
      "oranges 7\n"
     ]
    }
   ],
   "source": [
    "# Here is the function I created\n",
    "def lowercase(foo):\n",
    "    for a,b in my_dict.items():\n",
    "        print(a.lower(), b)\n",
    "lowercase(my_dict)"
   ]
  },
  {
   "cell_type": "markdown",
   "id": "171bea02",
   "metadata": {},
   "source": [
    "Why did you choose the mechanism you did to lowercase the keys?"
   ]
  },
  {
   "cell_type": "markdown",
   "id": "bdacff78",
   "metadata": {},
   "source": [
    "I used a for loop to lowercase the keys in my dictionary because this seemed to be the most efficient method. I was able to loop through each key and lowercase the first letter. I chose a function, rather than a list comprehension because this also seemed to be the most straightforward. "
   ]
  }
 ],
 "metadata": {
  "kernelspec": {
   "display_name": "Python 3 (ipykernel)",
   "language": "python",
   "name": "python3"
  },
  "language_info": {
   "codemirror_mode": {
    "name": "ipython",
    "version": 3
   },
   "file_extension": ".py",
   "mimetype": "text/x-python",
   "name": "python",
   "nbconvert_exporter": "python",
   "pygments_lexer": "ipython3",
   "version": "3.9.7"
  }
 },
 "nbformat": 4,
 "nbformat_minor": 5
}
