{
 "cells": [
  {
   "cell_type": "markdown",
   "id": "0342f516",
   "metadata": {},
   "source": [
    "# Week 14: In class exercise\n",
    "## 12/22/2021"
   ]
  },
  {
   "cell_type": "markdown",
   "id": "8ebfc28e",
   "metadata": {},
   "source": [
    "**1. Using the documentation for Recursive Feature Selection, apply this process to the crime dataset to create the best multivariate linear regression model https://scikit-learn.org/stable/modules/generated/sklearn.feature_selection.RFE.html . You can select what you’re trying to predict, but be sure to indicate what that is. Be sure to explain what RFE is in the markdown. You should be able to answer this using what’s on the documentation page + what you already know.**"
   ]
  },
  {
   "cell_type": "markdown",
   "id": "3f71dbdc",
   "metadata": {},
   "source": [
    "**What is RFE?**\n",
    "\n",
    "Recursive Feature Elimination (or RFE) is a method for optimizing your model by iteratively removing the least helpful (or 'weakest') features until the number of features you want is reached. For example, if you want 3 features in your model, and you have 20 to choose from, the RFE method will help you select the 3 best features. It will start with all 20 in the model and whittle down, eliminating the worst one each time, until you only have three."
   ]
  },
  {
   "cell_type": "code",
   "execution_count": 19,
   "id": "544f9ec5",
   "metadata": {},
   "outputs": [
    {
     "data": {
      "text/html": [
       "<div>\n",
       "<style scoped>\n",
       "    .dataframe tbody tr th:only-of-type {\n",
       "        vertical-align: middle;\n",
       "    }\n",
       "\n",
       "    .dataframe tbody tr th {\n",
       "        vertical-align: top;\n",
       "    }\n",
       "\n",
       "    .dataframe thead th {\n",
       "        text-align: right;\n",
       "    }\n",
       "</style>\n",
       "<table border=\"1\" class=\"dataframe\">\n",
       "  <thead>\n",
       "    <tr style=\"text-align: right;\">\n",
       "      <th></th>\n",
       "      <th>X1</th>\n",
       "      <th>X2</th>\n",
       "      <th>X3</th>\n",
       "      <th>X4</th>\n",
       "      <th>X5</th>\n",
       "      <th>X6</th>\n",
       "      <th>X7</th>\n",
       "    </tr>\n",
       "  </thead>\n",
       "  <tbody>\n",
       "    <tr>\n",
       "      <th>0</th>\n",
       "      <td>478</td>\n",
       "      <td>184</td>\n",
       "      <td>40</td>\n",
       "      <td>74</td>\n",
       "      <td>11</td>\n",
       "      <td>31</td>\n",
       "      <td>20</td>\n",
       "    </tr>\n",
       "    <tr>\n",
       "      <th>1</th>\n",
       "      <td>494</td>\n",
       "      <td>213</td>\n",
       "      <td>32</td>\n",
       "      <td>72</td>\n",
       "      <td>11</td>\n",
       "      <td>43</td>\n",
       "      <td>18</td>\n",
       "    </tr>\n",
       "    <tr>\n",
       "      <th>2</th>\n",
       "      <td>643</td>\n",
       "      <td>347</td>\n",
       "      <td>57</td>\n",
       "      <td>70</td>\n",
       "      <td>18</td>\n",
       "      <td>16</td>\n",
       "      <td>16</td>\n",
       "    </tr>\n",
       "    <tr>\n",
       "      <th>3</th>\n",
       "      <td>341</td>\n",
       "      <td>565</td>\n",
       "      <td>31</td>\n",
       "      <td>71</td>\n",
       "      <td>11</td>\n",
       "      <td>25</td>\n",
       "      <td>19</td>\n",
       "    </tr>\n",
       "    <tr>\n",
       "      <th>4</th>\n",
       "      <td>773</td>\n",
       "      <td>327</td>\n",
       "      <td>67</td>\n",
       "      <td>72</td>\n",
       "      <td>9</td>\n",
       "      <td>29</td>\n",
       "      <td>24</td>\n",
       "    </tr>\n",
       "  </tbody>\n",
       "</table>\n",
       "</div>"
      ],
      "text/plain": [
       "    X1   X2  X3  X4  X5  X6  X7\n",
       "0  478  184  40  74  11  31  20\n",
       "1  494  213  32  72  11  43  18\n",
       "2  643  347  57  70  18  16  16\n",
       "3  341  565  31  71  11  25  19\n",
       "4  773  327  67  72   9  29  24"
      ]
     },
     "execution_count": 19,
     "metadata": {},
     "output_type": "execute_result"
    }
   ],
   "source": [
    "# Load in libraries\n",
    "import numpy as np\n",
    "import pandas as pd\n",
    "from sklearn.linear_model import LinearRegression\n",
    "from statsmodels.formula.api import ols\n",
    "\n",
    "# Load file\n",
    "crime_df = pd.read_csv('crime_data.csv')\n",
    "crime_df.head()"
   ]
  },
  {
   "cell_type": "markdown",
   "id": "66027994",
   "metadata": {},
   "source": [
    "With the code below, we will try to predict the X1 column (reported crime per 1 mil residents)\n",
    "\n",
    "We will use RFE to create the best model possible for predicting the reported crime rate"
   ]
  },
  {
   "cell_type": "markdown",
   "id": "eacb6fba",
   "metadata": {},
   "source": [
    "**About the Data set**\n",
    "\n",
    "The data (X1, X2, X3, X4, X5, X6, X7) are for each city.\n",
    "\n",
    "X1 = total overall reported crime rate per 1 million residents\n",
    "\n",
    "X2 = reported violent crime rate per 100,000 residents\n",
    "\n",
    "X3 = annual police funding in $/resident\n",
    "\n",
    "X4 = % of people 25 years+ with 4 yrs. of high school\n",
    "\n",
    "X5 = % of 16 to 19 year-olds not in highschool and not highschool graduates.\n",
    "\n",
    "X6 = % of 18 to 24 year-olds in college\n",
    "\n",
    "X7 = % of people 25 years+ with at least 4 years of college"
   ]
  },
  {
   "cell_type": "markdown",
   "id": "8fc73d24",
   "metadata": {},
   "source": [
    "**Compute the RFE**"
   ]
  },
  {
   "cell_type": "code",
   "execution_count": 20,
   "id": "545d90ff",
   "metadata": {},
   "outputs": [],
   "source": [
    "# Get our predictive variables (everything except X1)\n",
    "X = crime_df.drop('X1', axis=1)\n",
    "# Get our outcome variable (only X1)\n",
    "y = crime_df['X1']"
   ]
  },
  {
   "cell_type": "code",
   "execution_count": 21,
   "id": "b7a75ea1",
   "metadata": {},
   "outputs": [
    {
     "name": "stdout",
     "output_type": "stream",
     "text": [
      "[False  True  True False False False]\n",
      "[5 1 1 3 4 2]\n"
     ]
    }
   ],
   "source": [
    "# FROM ARTICLE EXAMPLE: A support vector regression is our estimator\n",
    "        # The kernal is similar to what model we are using\n",
    "        #estimator = SVR(kernel=\"linear\")\n",
    "\n",
    "# Try using linear regression classifier as our estimator, instead of SVR\n",
    "estimator = LinearRegression()\n",
    "\n",
    "# Run the recursive feature elimination (RFE)\n",
    "# We want to end up with 2 features here\n",
    "# The step is how many features to remove with each iteration \n",
    "selector = RFE(estimator, n_features_to_select=2, step=1)\n",
    "\n",
    "# Fit the selector to our data above\n",
    "selector2 = selector.fit(X, y)\n",
    "\n",
    "# Shows the mask of selected features\n",
    "print(selector2.support_)\n",
    "\n",
    "# Print the rankings from our iterations\n",
    "print(selector2.ranking_)"
   ]
  },
  {
   "cell_type": "markdown",
   "id": "4b09b7a0",
   "metadata": {},
   "source": [
    "The code above shows the two best features (since we used n_features_to_select=2). These are symbolized by \"true\" and \"true\". We get even more detail from the actual rankings. The two features marked as 'true' have a ranking of 1 (being the best). However, we also get to see how the other features ranked, which could still be helpful for us. \n",
    "\n",
    "In this case, the RFE is telling us that the two best features to use for predicting total overall reported crime rate per 1 million residents are X3 (annual police funding in per resident) and X4 (percent of people 25 years+ with 4 yrs. of high school)"
   ]
  },
  {
   "cell_type": "markdown",
   "id": "cb57415d",
   "metadata": {},
   "source": [
    "**Apply our findings by creating the best model**"
   ]
  },
  {
   "cell_type": "code",
   "execution_count": 22,
   "id": "25838909",
   "metadata": {},
   "outputs": [
    {
     "name": "stdout",
     "output_type": "stream",
     "text": [
      "Intercept    621.426036\n",
      "X3            11.858331\n",
      "X4            -5.973412\n",
      "dtype: float64\n"
     ]
    }
   ],
   "source": [
    "# Build the model\n",
    "crime_model = ols('X1 ~ X3 + X4', data=crime_df).fit()\n",
    "\n",
    "# Extract the parameters\n",
    "print(crime_model.params)"
   ]
  },
  {
   "cell_type": "code",
   "execution_count": 24,
   "id": "51e38638",
   "metadata": {},
   "outputs": [
    {
     "data": {
      "text/html": [
       "<table class=\"simpletable\">\n",
       "<caption>OLS Regression Results</caption>\n",
       "<tr>\n",
       "  <th>Dep. Variable:</th>           <td>X1</td>        <th>  R-squared:         </th> <td>   0.325</td>\n",
       "</tr>\n",
       "<tr>\n",
       "  <th>Model:</th>                   <td>OLS</td>       <th>  Adj. R-squared:    </th> <td>   0.296</td>\n",
       "</tr>\n",
       "<tr>\n",
       "  <th>Method:</th>             <td>Least Squares</td>  <th>  F-statistic:       </th> <td>   11.30</td>\n",
       "</tr>\n",
       "<tr>\n",
       "  <th>Date:</th>             <td>Wed, 22 Dec 2021</td> <th>  Prob (F-statistic):</th> <td>9.84e-05</td>\n",
       "</tr>\n",
       "<tr>\n",
       "  <th>Time:</th>                 <td>22:09:44</td>     <th>  Log-Likelihood:    </th> <td> -344.79</td>\n",
       "</tr>\n",
       "<tr>\n",
       "  <th>No. Observations:</th>      <td>    50</td>      <th>  AIC:               </th> <td>   695.6</td>\n",
       "</tr>\n",
       "<tr>\n",
       "  <th>Df Residuals:</th>          <td>    47</td>      <th>  BIC:               </th> <td>   701.3</td>\n",
       "</tr>\n",
       "<tr>\n",
       "  <th>Df Model:</th>              <td>     2</td>      <th>                     </th>     <td> </td>   \n",
       "</tr>\n",
       "<tr>\n",
       "  <th>Covariance Type:</th>      <td>nonrobust</td>    <th>                     </th>     <td> </td>   \n",
       "</tr>\n",
       "</table>\n",
       "<table class=\"simpletable\">\n",
       "<tr>\n",
       "      <td></td>         <th>coef</th>     <th>std err</th>      <th>t</th>      <th>P>|t|</th>  <th>[0.025</th>    <th>0.975]</th>  \n",
       "</tr>\n",
       "<tr>\n",
       "  <th>Intercept</th> <td>  621.4260</td> <td>  222.685</td> <td>    2.791</td> <td> 0.008</td> <td>  173.441</td> <td> 1069.411</td>\n",
       "</tr>\n",
       "<tr>\n",
       "  <th>X3</th>        <td>   11.8583</td> <td>    2.568</td> <td>    4.618</td> <td> 0.000</td> <td>    6.692</td> <td>   17.024</td>\n",
       "</tr>\n",
       "<tr>\n",
       "  <th>X4</th>        <td>   -5.9734</td> <td>    3.561</td> <td>   -1.677</td> <td> 0.100</td> <td>  -13.138</td> <td>    1.191</td>\n",
       "</tr>\n",
       "</table>\n",
       "<table class=\"simpletable\">\n",
       "<tr>\n",
       "  <th>Omnibus:</th>       <td>14.866</td> <th>  Durbin-Watson:     </th> <td>   1.581</td>\n",
       "</tr>\n",
       "<tr>\n",
       "  <th>Prob(Omnibus):</th> <td> 0.001</td> <th>  Jarque-Bera (JB):  </th> <td>  16.549</td>\n",
       "</tr>\n",
       "<tr>\n",
       "  <th>Skew:</th>          <td> 1.202</td> <th>  Prob(JB):          </th> <td>0.000255</td>\n",
       "</tr>\n",
       "<tr>\n",
       "  <th>Kurtosis:</th>      <td> 4.470</td> <th>  Cond. No.          </th> <td>    453.</td>\n",
       "</tr>\n",
       "</table><br/><br/>Notes:<br/>[1] Standard Errors assume that the covariance matrix of the errors is correctly specified."
      ],
      "text/plain": [
       "<class 'statsmodels.iolib.summary.Summary'>\n",
       "\"\"\"\n",
       "                            OLS Regression Results                            \n",
       "==============================================================================\n",
       "Dep. Variable:                     X1   R-squared:                       0.325\n",
       "Model:                            OLS   Adj. R-squared:                  0.296\n",
       "Method:                 Least Squares   F-statistic:                     11.30\n",
       "Date:                Wed, 22 Dec 2021   Prob (F-statistic):           9.84e-05\n",
       "Time:                        22:09:44   Log-Likelihood:                -344.79\n",
       "No. Observations:                  50   AIC:                             695.6\n",
       "Df Residuals:                      47   BIC:                             701.3\n",
       "Df Model:                           2                                         \n",
       "Covariance Type:            nonrobust                                         \n",
       "==============================================================================\n",
       "                 coef    std err          t      P>|t|      [0.025      0.975]\n",
       "------------------------------------------------------------------------------\n",
       "Intercept    621.4260    222.685      2.791      0.008     173.441    1069.411\n",
       "X3            11.8583      2.568      4.618      0.000       6.692      17.024\n",
       "X4            -5.9734      3.561     -1.677      0.100     -13.138       1.191\n",
       "==============================================================================\n",
       "Omnibus:                       14.866   Durbin-Watson:                   1.581\n",
       "Prob(Omnibus):                  0.001   Jarque-Bera (JB):               16.549\n",
       "Skew:                           1.202   Prob(JB):                     0.000255\n",
       "Kurtosis:                       4.470   Cond. No.                         453.\n",
       "==============================================================================\n",
       "\n",
       "Notes:\n",
       "[1] Standard Errors assume that the covariance matrix of the errors is correctly specified.\n",
       "\"\"\""
      ]
     },
     "execution_count": 24,
     "metadata": {},
     "output_type": "execute_result"
    }
   ],
   "source": [
    "# View summary data\n",
    "crime_model.summary()"
   ]
  },
  {
   "cell_type": "markdown",
   "id": "4aa60d04",
   "metadata": {},
   "source": [
    "**Interpretation**\n",
    "\n",
    "Even by getting the \"best\" model possible, this model is still not that great at predicting reported crime. Our model only explains 32.5% of the variability (based on our r-squared value). X3 (annual police funding in per resident) was a significant predictor in our model, but X4 (percent of people 25 years+ with 4 yrs. of high school) was not. Clearly, we would need to refine our model to make more accurate predictions of reported crime."
   ]
  },
  {
   "cell_type": "markdown",
   "id": "1ca2aa5c",
   "metadata": {},
   "source": [
    "**2. Create a list of preprocessing steps you should try when working to build a model. Briefly describe what each step is. Work with your group to come up with the most comprehensive list you can.**"
   ]
  },
  {
   "cell_type": "markdown",
   "id": "c8e69b6e",
   "metadata": {},
   "source": [
    "- Plot the overall distribution of your data\n",
    "    - This will help us know if our data are very skewed\n",
    "    - This will also help us know what further preprocessing steps we need\n",
    "- Look at what data types you have, how many features, how many rows, etc.\n",
    "    - How many categorical vs. numeric?\n",
    "    - Any datetime values? etc.\n",
    "- Cleaning nulls \n",
    "    - removing features that have too many nulls (e.g. over 50%)\n",
    "- Handle missing data\n",
    "    - Might want to replace null with 0, mean, median, etc. depending on our data\n",
    "    - Need to be careful on how this affects our data\n",
    "- Standardize your data (normalize)\n",
    "- Scale your data\n",
    "    - Transform data to be the same scale (especially useful for different distance measures that are very sensitive to scale)\n",
    "- Convert categorical to numeric\n",
    "    - This is crucial for machine learning algorithms\n",
    "- One-hot encoding\n",
    "    - Changing categorical variables to binary (0,1)\n",
    "- Cleaning up your data in general \n",
    "    - Missing values\n",
    "    - Changing strings to numeric or proper dates\n",
    "    - Spaces in odd places\n",
    "    - Weird characters, etc.\n",
    "- Correlation matrix\n",
    "    - See where you have multicollinearity\n",
    "    - If applicable, drop features that are highly correlated with each other before running your model"
   ]
  }
 ],
 "metadata": {
  "kernelspec": {
   "display_name": "Python 3 (ipykernel)",
   "language": "python",
   "name": "python3"
  },
  "language_info": {
   "codemirror_mode": {
    "name": "ipython",
    "version": 3
   },
   "file_extension": ".py",
   "mimetype": "text/x-python",
   "name": "python",
   "nbconvert_exporter": "python",
   "pygments_lexer": "ipython3",
   "version": "3.9.7"
  }
 },
 "nbformat": 4,
 "nbformat_minor": 5
}
