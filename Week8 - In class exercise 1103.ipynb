{
 "cells": [
  {
   "cell_type": "markdown",
   "id": "3b1a8b19",
   "metadata": {},
   "source": [
    "1. Lookup information on geometric mean and harmonic mean to answer the following questions:\n",
    "    \n",
    "    a. In a jupyter notebook create a markdown section for each of the three concepts: arithmetic mean, geometric mean, and harmonic mean\n",
    "    \n",
    "    b. Write a definition for arithmetic mean, geometric mean, and harmonic mean, under their respective headings\n",
    "    \n",
    "    c. Write a code example for arithmetic mean, geometric mean, and harmonic mean using the Belize Airbnb data in a cell under the each respective summary in markdown"
   ]
  },
  {
   "cell_type": "code",
   "execution_count": 2,
   "id": "8964cd64",
   "metadata": {},
   "outputs": [],
   "source": [
    "import pandas as pd\n",
    "import numpy as np\n",
    "import math\n",
    "import statistics\n",
    "from scipy import stats\n",
    "\n",
    "belize_listings_path = \"belize_airbnb_listings.csv\"\n",
    "belize_df = pd.read_csv(belize_listings_path)"
   ]
  },
  {
   "cell_type": "code",
   "execution_count": 3,
   "id": "fc343810",
   "metadata": {},
   "outputs": [
    {
     "data": {
      "text/html": [
       "<div>\n",
       "<style scoped>\n",
       "    .dataframe tbody tr th:only-of-type {\n",
       "        vertical-align: middle;\n",
       "    }\n",
       "\n",
       "    .dataframe tbody tr th {\n",
       "        vertical-align: top;\n",
       "    }\n",
       "\n",
       "    .dataframe thead th {\n",
       "        text-align: right;\n",
       "    }\n",
       "</style>\n",
       "<table border=\"1\" class=\"dataframe\">\n",
       "  <thead>\n",
       "    <tr style=\"text-align: right;\">\n",
       "      <th></th>\n",
       "      <th>id</th>\n",
       "      <th>name</th>\n",
       "      <th>host_id</th>\n",
       "      <th>host_name</th>\n",
       "      <th>neighbourhood_group</th>\n",
       "      <th>neighbourhood</th>\n",
       "      <th>latitude</th>\n",
       "      <th>longitude</th>\n",
       "      <th>room_type</th>\n",
       "      <th>price</th>\n",
       "      <th>minimum_nights</th>\n",
       "      <th>number_of_reviews</th>\n",
       "      <th>last_review</th>\n",
       "      <th>reviews_per_month</th>\n",
       "      <th>calculated_host_listings_count</th>\n",
       "      <th>availability_365</th>\n",
       "    </tr>\n",
       "  </thead>\n",
       "  <tbody>\n",
       "    <tr>\n",
       "      <th>0</th>\n",
       "      <td>36666</td>\n",
       "      <td>Mo's Cozy Casa w/ veranda &amp; access to dock</td>\n",
       "      <td>157752</td>\n",
       "      <td>Monique</td>\n",
       "      <td>Belize</td>\n",
       "      <td>Belize Islands</td>\n",
       "      <td>17.74786</td>\n",
       "      <td>-88.02398</td>\n",
       "      <td>Entire home/apt</td>\n",
       "      <td>141</td>\n",
       "      <td>3</td>\n",
       "      <td>250</td>\n",
       "      <td>2/23/2021</td>\n",
       "      <td>2.00</td>\n",
       "      <td>5</td>\n",
       "      <td>225</td>\n",
       "    </tr>\n",
       "    <tr>\n",
       "      <th>1</th>\n",
       "      <td>36690</td>\n",
       "      <td>Mo's Cozy Cabana w/ comfy veranda &amp; access to ...</td>\n",
       "      <td>157752</td>\n",
       "      <td>Monique</td>\n",
       "      <td>Belize</td>\n",
       "      <td>Belize Islands</td>\n",
       "      <td>17.74832</td>\n",
       "      <td>-88.02474</td>\n",
       "      <td>Entire home/apt</td>\n",
       "      <td>71</td>\n",
       "      <td>3</td>\n",
       "      <td>316</td>\n",
       "      <td>2/19/2021</td>\n",
       "      <td>2.46</td>\n",
       "      <td>5</td>\n",
       "      <td>164</td>\n",
       "    </tr>\n",
       "    <tr>\n",
       "      <th>2</th>\n",
       "      <td>108932</td>\n",
       "      <td>Purple House eco solar  w/ ocean &amp; wildlife views</td>\n",
       "      <td>563377</td>\n",
       "      <td>Michael</td>\n",
       "      <td>Belize</td>\n",
       "      <td>Belize Islands</td>\n",
       "      <td>17.73221</td>\n",
       "      <td>-88.03824</td>\n",
       "      <td>Entire home/apt</td>\n",
       "      <td>191</td>\n",
       "      <td>2</td>\n",
       "      <td>30</td>\n",
       "      <td>3/14/2020</td>\n",
       "      <td>0.78</td>\n",
       "      <td>1</td>\n",
       "      <td>364</td>\n",
       "    </tr>\n",
       "    <tr>\n",
       "      <th>3</th>\n",
       "      <td>110483</td>\n",
       "      <td>Michelo's fuchsia suite</td>\n",
       "      <td>567809</td>\n",
       "      <td>Michel</td>\n",
       "      <td>Stann Creek</td>\n",
       "      <td>Stann Creek Mainland</td>\n",
       "      <td>16.52114</td>\n",
       "      <td>-88.36926</td>\n",
       "      <td>Hotel room</td>\n",
       "      <td>121</td>\n",
       "      <td>1</td>\n",
       "      <td>27</td>\n",
       "      <td>2/24/2020</td>\n",
       "      <td>0.29</td>\n",
       "      <td>3</td>\n",
       "      <td>331</td>\n",
       "    </tr>\n",
       "    <tr>\n",
       "      <th>4</th>\n",
       "      <td>120115</td>\n",
       "      <td>Seaside Villas Second Floor Unit  #4</td>\n",
       "      <td>604999</td>\n",
       "      <td>Bobbi</td>\n",
       "      <td>Belize</td>\n",
       "      <td>Belize Islands</td>\n",
       "      <td>17.74166</td>\n",
       "      <td>-88.02395</td>\n",
       "      <td>Entire home/apt</td>\n",
       "      <td>343</td>\n",
       "      <td>1</td>\n",
       "      <td>30</td>\n",
       "      <td>3/18/2020</td>\n",
       "      <td>0.64</td>\n",
       "      <td>22</td>\n",
       "      <td>203</td>\n",
       "    </tr>\n",
       "  </tbody>\n",
       "</table>\n",
       "</div>"
      ],
      "text/plain": [
       "       id                                               name  host_id  \\\n",
       "0   36666         Mo's Cozy Casa w/ veranda & access to dock   157752   \n",
       "1   36690  Mo's Cozy Cabana w/ comfy veranda & access to ...   157752   \n",
       "2  108932  Purple House eco solar  w/ ocean & wildlife views   563377   \n",
       "3  110483                            Michelo's fuchsia suite   567809   \n",
       "4  120115               Seaside Villas Second Floor Unit  #4   604999   \n",
       "\n",
       "  host_name neighbourhood_group         neighbourhood  latitude  longitude  \\\n",
       "0   Monique              Belize        Belize Islands  17.74786  -88.02398   \n",
       "1   Monique              Belize        Belize Islands  17.74832  -88.02474   \n",
       "2   Michael              Belize        Belize Islands  17.73221  -88.03824   \n",
       "3    Michel         Stann Creek  Stann Creek Mainland  16.52114  -88.36926   \n",
       "4     Bobbi              Belize        Belize Islands  17.74166  -88.02395   \n",
       "\n",
       "         room_type  price  minimum_nights  number_of_reviews last_review  \\\n",
       "0  Entire home/apt    141               3                250   2/23/2021   \n",
       "1  Entire home/apt     71               3                316   2/19/2021   \n",
       "2  Entire home/apt    191               2                 30   3/14/2020   \n",
       "3       Hotel room    121               1                 27   2/24/2020   \n",
       "4  Entire home/apt    343               1                 30   3/18/2020   \n",
       "\n",
       "   reviews_per_month  calculated_host_listings_count  availability_365  \n",
       "0               2.00                               5               225  \n",
       "1               2.46                               5               164  \n",
       "2               0.78                               1               364  \n",
       "3               0.29                               3               331  \n",
       "4               0.64                              22               203  "
      ]
     },
     "execution_count": 3,
     "metadata": {},
     "output_type": "execute_result"
    }
   ],
   "source": [
    "belize_df.head()"
   ]
  },
  {
   "cell_type": "markdown",
   "id": "d2c7b538",
   "metadata": {},
   "source": [
    "### Arithmetic Mean\n",
    "The arithmetic mean is the average of your data set. It sums all values in the variable of interest and divides by the number of values in your variable of interest. For example, if you have values of 1, 2, 3 then you would add all those numbers and divide by 3."
   ]
  },
  {
   "cell_type": "code",
   "execution_count": 4,
   "id": "956e6b36",
   "metadata": {},
   "outputs": [
    {
     "data": {
      "text/plain": [
       "357.1022889842632"
      ]
     },
     "execution_count": 4,
     "metadata": {},
     "output_type": "execute_result"
    }
   ],
   "source": [
    "# Find arithmetic mean\n",
    "belize_df['price'].mean()"
   ]
  },
  {
   "cell_type": "markdown",
   "id": "bafd478d",
   "metadata": {},
   "source": [
    "### Geometric Mean\n",
    "The geometric mean is also an average, but you use products instead of sums. To do this, you multiply all of the values in a variable together. Then, you take the nth root of that. For example, if you have 20 values, you take the 20th root. It is a better measure of central tendency when you don't have a linear relationship."
   ]
  },
  {
   "cell_type": "code",
   "execution_count": 6,
   "id": "18c41bed",
   "metadata": {},
   "outputs": [
    {
     "data": {
      "text/plain": [
       "234.7347175108817"
      ]
     },
     "execution_count": 6,
     "metadata": {},
     "output_type": "execute_result"
    }
   ],
   "source": [
    "# Find geometric mean\n",
    "stats.gmean(belize_df['price'])"
   ]
  },
  {
   "cell_type": "markdown",
   "id": "3b8d73f2",
   "metadata": {},
   "source": [
    "### Harmonic Mean\n",
    "For harmonic mean, you take the reciprocol of each value in your variable of interest and then you use the number of values within that variable as your numerator. So, if your values are 3, 2, and 5, you would add 1/3, 1/2, 1/5 together. Then 3 divided by that value. This is good when determining average rate."
   ]
  },
  {
   "cell_type": "code",
   "execution_count": 7,
   "id": "ebb2432d",
   "metadata": {},
   "outputs": [
    {
     "data": {
      "text/plain": [
       "170.99338501026463"
      ]
     },
     "execution_count": 7,
     "metadata": {},
     "output_type": "execute_result"
    }
   ],
   "source": [
    "# Find harmonic mean\n",
    "stats.hmean(belize_df['price'])"
   ]
  },
  {
   "cell_type": "markdown",
   "id": "9d49be90",
   "metadata": {},
   "source": [
    "2. Write a function to sort several subsequent inputs alphabetically. For example, if you first input ‘banana’ and next input ‘apple’, the first time [‘banana’] will be the output but the second time [‘apple’,’banana’] will be the output. The results should be stored until you restart your kernel. There are several approaches that will work, but using a global variable is likely the easiest: https://www.w3schools.com/python/python_variables_global.asp"
   ]
  },
  {
   "cell_type": "code",
   "execution_count": 14,
   "id": "af2abb35",
   "metadata": {},
   "outputs": [],
   "source": [
    "# Create an empty list to which we will append values\n",
    "word_list = []\n",
    "\n",
    "# Create our function called \"alphabet_sort\"\n",
    "def alphabet_sort():\n",
    "    word_input = input('Please enter a word') # Ask the user to enter a word\n",
    "   \n",
    "    # Append that word to our empty list\n",
    "    word_list.append(word_input)\n",
    "    \n",
    "    # Sort list so that values appear alphabetically \n",
    "    print(sorted(word_list))"
   ]
  },
  {
   "cell_type": "code",
   "execution_count": 16,
   "id": "517ba614",
   "metadata": {},
   "outputs": [
    {
     "name": "stdout",
     "output_type": "stream",
     "text": [
      "Please enter a wordbanana\n",
      "['apple', 'banana']\n"
     ]
    }
   ],
   "source": [
    "# Test our function (I first entered apple. On the second call, I entered banana. It seems to work properly)\n",
    "alphabet_sort()"
   ]
  },
  {
   "cell_type": "code",
   "execution_count": 17,
   "id": "51ffa86c",
   "metadata": {},
   "outputs": [
    {
     "name": "stdout",
     "output_type": "stream",
     "text": [
      "Please enter a wordzebra\n",
      "['apple', 'banana', 'zebra']\n"
     ]
    }
   ],
   "source": [
    "# Test again with more words (enter zebra)\n",
    "alphabet_sort()"
   ]
  },
  {
   "cell_type": "code",
   "execution_count": 18,
   "id": "38095aed",
   "metadata": {},
   "outputs": [
    {
     "name": "stdout",
     "output_type": "stream",
     "text": [
      "Please enter a worddog\n",
      "['apple', 'banana', 'dog', 'zebra']\n"
     ]
    }
   ],
   "source": [
    "# Test again with more words (enter dog)\n",
    "alphabet_sort()"
   ]
  }
 ],
 "metadata": {
  "kernelspec": {
   "display_name": "Python 3 (ipykernel)",
   "language": "python",
   "name": "python3"
  },
  "language_info": {
   "codemirror_mode": {
    "name": "ipython",
    "version": 3
   },
   "file_extension": ".py",
   "mimetype": "text/x-python",
   "name": "python",
   "nbconvert_exporter": "python",
   "pygments_lexer": "ipython3",
   "version": "3.9.7"
  }
 },
 "nbformat": 4,
 "nbformat_minor": 5
}
