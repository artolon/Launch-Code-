{
 "cells": [
  {
   "cell_type": "markdown",
   "id": "84e42d8e",
   "metadata": {},
   "source": [
    "# In Class Assignment # 1\n",
    "## Abbie Tolon (9/15/2021)"
   ]
  },
  {
   "cell_type": "markdown",
   "id": "0134d74f",
   "metadata": {},
   "source": [
    "### Numeric (Integers and Floats)"
   ]
  },
  {
   "cell_type": "code",
   "execution_count": 8,
   "id": "bc038f99",
   "metadata": {},
   "outputs": [],
   "source": [
    "# Examples of Integers\n",
    "x = 7\n",
    "\n",
    "# Examples of Floats\n",
    "y = 7.1234"
   ]
  },
  {
   "cell_type": "code",
   "execution_count": 9,
   "id": "6b0dc06c",
   "metadata": {},
   "outputs": [
    {
     "name": "stdout",
     "output_type": "stream",
     "text": [
      "<class 'int'>\n"
     ]
    }
   ],
   "source": [
    "print(type(x))"
   ]
  },
  {
   "cell_type": "code",
   "execution_count": 10,
   "id": "f70a0aee",
   "metadata": {},
   "outputs": [
    {
     "name": "stdout",
     "output_type": "stream",
     "text": [
      "<class 'float'>\n"
     ]
    }
   ],
   "source": [
    "print(type(y))"
   ]
  },
  {
   "cell_type": "markdown",
   "id": "12d3e890",
   "metadata": {},
   "source": [
    "### Dictionary"
   ]
  },
  {
   "cell_type": "code",
   "execution_count": 12,
   "id": "49862f6c",
   "metadata": {},
   "outputs": [],
   "source": [
    "# Examples of Dictionaries\n",
    "\n",
    "# Here is a dictionary displaying the ages of my family members\n",
    "Family = {\"Bobbie\":63,\n",
    "         \"Elaine\":30,\n",
    "         \"Abbie\":28,\n",
    "         \"Tori\":25}"
   ]
  },
  {
   "cell_type": "code",
   "execution_count": 13,
   "id": "252401d3",
   "metadata": {},
   "outputs": [
    {
     "name": "stdout",
     "output_type": "stream",
     "text": [
      "28\n"
     ]
    }
   ],
   "source": [
    "# Print from dictionary to determine Abbie's age\n",
    "print(Family[\"Abbie\"])"
   ]
  },
  {
   "cell_type": "code",
   "execution_count": 28,
   "id": "effaf795",
   "metadata": {},
   "outputs": [
    {
     "name": "stdout",
     "output_type": "stream",
     "text": [
      "<class 'dict'>\n"
     ]
    }
   ],
   "source": [
    "print(type(Family))"
   ]
  },
  {
   "cell_type": "markdown",
   "id": "8915d82d",
   "metadata": {},
   "source": [
    "### Boolean"
   ]
  },
  {
   "cell_type": "code",
   "execution_count": 14,
   "id": "010c1ae3",
   "metadata": {},
   "outputs": [],
   "source": [
    "# Examples of Boolean\n",
    "dogs_are_the_best = True"
   ]
  },
  {
   "cell_type": "code",
   "execution_count": 15,
   "id": "2c2d938c",
   "metadata": {},
   "outputs": [
    {
     "name": "stdout",
     "output_type": "stream",
     "text": [
      "True\n"
     ]
    }
   ],
   "source": [
    "print(dogs_are_the_best)"
   ]
  },
  {
   "cell_type": "code",
   "execution_count": 27,
   "id": "97951711",
   "metadata": {},
   "outputs": [
    {
     "name": "stdout",
     "output_type": "stream",
     "text": [
      "<class 'bool'>\n"
     ]
    }
   ],
   "source": [
    "print(type(dogs_are_the_best))"
   ]
  },
  {
   "cell_type": "markdown",
   "id": "8573f9e7",
   "metadata": {},
   "source": [
    "### Sequence (string, list, tuple)"
   ]
  },
  {
   "cell_type": "code",
   "execution_count": 24,
   "id": "1372f5a9",
   "metadata": {},
   "outputs": [],
   "source": [
    "# Examples of strings\n",
    "s = \"This is a string\"\n",
    "\n",
    "# Examples of lists\n",
    "l = [\"tiny\", \"small\", \"medium\", \"large\", \"huge\"]\n",
    "\n",
    "# Examples of tuple\n",
    "t = (\"tiny\", \"small\", \"medium\", \"large\", \"huge\")"
   ]
  },
  {
   "cell_type": "code",
   "execution_count": 21,
   "id": "e0d26e09",
   "metadata": {},
   "outputs": [
    {
     "name": "stdout",
     "output_type": "stream",
     "text": [
      "<class 'str'>\n"
     ]
    }
   ],
   "source": [
    "print(type(s))"
   ]
  },
  {
   "cell_type": "code",
   "execution_count": 23,
   "id": "7660268e",
   "metadata": {},
   "outputs": [
    {
     "name": "stdout",
     "output_type": "stream",
     "text": [
      "<class 'list'>\n"
     ]
    }
   ],
   "source": [
    "print(type(l))"
   ]
  },
  {
   "cell_type": "code",
   "execution_count": 25,
   "id": "356410bc",
   "metadata": {},
   "outputs": [
    {
     "name": "stdout",
     "output_type": "stream",
     "text": [
      "<class 'tuple'>\n"
     ]
    }
   ],
   "source": [
    "print(type(t))"
   ]
  },
  {
   "cell_type": "markdown",
   "id": "16f60b3a",
   "metadata": {},
   "source": [
    "### Set"
   ]
  },
  {
   "cell_type": "code",
   "execution_count": 16,
   "id": "c6ae676f",
   "metadata": {},
   "outputs": [],
   "source": [
    "# Examples of sets\n",
    "# Create a set of hobbies I have!\n",
    "hobbies = {\"Running\", \"Rock Climbing\", \"Cooking\", \"Coding!\"}"
   ]
  },
  {
   "cell_type": "code",
   "execution_count": 17,
   "id": "24a14142",
   "metadata": {},
   "outputs": [
    {
     "name": "stdout",
     "output_type": "stream",
     "text": [
      "{'Running', 'Rock Climbing', 'Coding!', 'Cooking'}\n"
     ]
    }
   ],
   "source": [
    "print(hobbies)"
   ]
  },
  {
   "cell_type": "code",
   "execution_count": 26,
   "id": "7efc62f4",
   "metadata": {},
   "outputs": [
    {
     "name": "stdout",
     "output_type": "stream",
     "text": [
      "<class 'set'>\n"
     ]
    }
   ],
   "source": [
    "print(type(hobbies))"
   ]
  },
  {
   "cell_type": "code",
   "execution_count": null,
   "id": "23e85dce",
   "metadata": {},
   "outputs": [],
   "source": []
  }
 ],
 "metadata": {
  "kernelspec": {
   "display_name": "Python 3 (ipykernel)",
   "language": "python",
   "name": "python3"
  },
  "language_info": {
   "codemirror_mode": {
    "name": "ipython",
    "version": 3
   },
   "file_extension": ".py",
   "mimetype": "text/x-python",
   "name": "python",
   "nbconvert_exporter": "python",
   "pygments_lexer": "ipython3",
   "version": "3.9.7"
  }
 },
 "nbformat": 4,
 "nbformat_minor": 5
}
