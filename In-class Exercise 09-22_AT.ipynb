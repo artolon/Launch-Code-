{
 "cells": [
  {
   "cell_type": "code",
   "execution_count": 1,
   "id": "86e4ffe5",
   "metadata": {},
   "outputs": [
    {
     "name": "stdout",
     "output_type": "stream",
     "text": [
      "Weird\n",
      "Not Weird\n"
     ]
    }
   ],
   "source": [
    "# Write a function that takes an integer n \n",
    "   #and performs the following conditions\n",
    "\n",
    "def Weird_function(n):\n",
    "    \n",
    "    if n%2!=0:\n",
    "        print(\"Weird\")\n",
    "        \n",
    "    elif n%2==0 and n in range(2,6):\n",
    "        print(\"Not Weird\")\n",
    "        \n",
    "    elif n%2==0 and n in range(6,21): \n",
    "        print(\"Weird\")\n",
    "        \n",
    "    elif n%2==0 and n>20:\n",
    "        print(\"Not Weird\")\n",
    "    \n",
    "    while n <=100:\n",
    "        #print(n)\n",
    "        n+=1\n",
    "\n",
    "Weird_function(3)\n",
    "Weird_function(24)\n",
    "        \n",
    "#n = int(input('Enter a number'))"
   ]
  },
  {
   "cell_type": "code",
   "execution_count": null,
   "id": "e5c91edb",
   "metadata": {},
   "outputs": [],
   "source": []
  },
  {
   "cell_type": "code",
   "execution_count": null,
   "id": "27504fee",
   "metadata": {},
   "outputs": [],
   "source": []
  },
  {
   "cell_type": "code",
   "execution_count": null,
   "id": "e05ae336",
   "metadata": {},
   "outputs": [],
   "source": []
  },
  {
   "cell_type": "code",
   "execution_count": null,
   "id": "29ce27e1",
   "metadata": {},
   "outputs": [],
   "source": []
  },
  {
   "cell_type": "code",
   "execution_count": null,
   "id": "0bb7b435",
   "metadata": {},
   "outputs": [],
   "source": []
  },
  {
   "cell_type": "code",
   "execution_count": null,
   "id": "a6d70e87",
   "metadata": {},
   "outputs": [],
   "source": []
  }
 ],
 "metadata": {
  "kernelspec": {
   "display_name": "Python 3 (ipykernel)",
   "language": "python",
   "name": "python3"
  },
  "language_info": {
   "codemirror_mode": {
    "name": "ipython",
    "version": 3
   },
   "file_extension": ".py",
   "mimetype": "text/x-python",
   "name": "python",
   "nbconvert_exporter": "python",
   "pygments_lexer": "ipython3",
   "version": "3.9.7"
  }
 },
 "nbformat": 4,
 "nbformat_minor": 5
}
