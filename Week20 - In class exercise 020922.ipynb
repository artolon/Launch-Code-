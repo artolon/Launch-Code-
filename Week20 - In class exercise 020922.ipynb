{
 "cells": [
  {
   "cell_type": "markdown",
   "id": "bcd3862d",
   "metadata": {},
   "source": [
    "# Week 20 - In class exercise\n",
    "### February 9, 2022\n",
    "\n",
    "## Natural Language Processing"
   ]
  },
  {
   "cell_type": "markdown",
   "id": "3efadd67",
   "metadata": {},
   "source": [
    "**1. Take the result of the following line of code (but use whatever available text you want) and write a function to concatenate the data back into sentences, with one readable sentence in each list.** \n",
    "\n",
    "sentences = nltk.corpus.gutenberg.sents(\"carroll-alice.txt\")[:10]\n"
   ]
  },
  {
   "cell_type": "code",
   "execution_count": 1,
   "id": "cc8230b3",
   "metadata": {},
   "outputs": [
    {
     "name": "stdout",
     "output_type": "stream",
     "text": [
      "[['[', 'Alice', \"'\", 's', 'Adventures', 'in', 'Wonderland', 'by', 'Lewis', 'Carroll', '1865', ']'], ['CHAPTER', 'I', '.'], ['Down', 'the', 'Rabbit', '-', 'Hole'], ['Alice', 'was', 'beginning', 'to', 'get', 'very', 'tired', 'of', 'sitting', 'by', 'her', 'sister', 'on', 'the', 'bank', ',', 'and', 'of', 'having', 'nothing', 'to', 'do', ':', 'once', 'or', 'twice', 'she', 'had', 'peeped', 'into', 'the', 'book', 'her', 'sister', 'was', 'reading', ',', 'but', 'it', 'had', 'no', 'pictures', 'or', 'conversations', 'in', 'it', ',', \"'\", 'and', 'what', 'is', 'the', 'use', 'of', 'a', 'book', \",'\", 'thought', 'Alice', \"'\", 'without', 'pictures', 'or', 'conversation', \"?'\"], ['So', 'she', 'was', 'considering', 'in', 'her', 'own', 'mind', '(', 'as', 'well', 'as', 'she', 'could', ',', 'for', 'the', 'hot', 'day', 'made', 'her', 'feel', 'very', 'sleepy', 'and', 'stupid', '),', 'whether', 'the', 'pleasure', 'of', 'making', 'a', 'daisy', '-', 'chain', 'would', 'be', 'worth', 'the', 'trouble', 'of', 'getting', 'up', 'and', 'picking', 'the', 'daisies', ',', 'when', 'suddenly', 'a', 'White', 'Rabbit', 'with', 'pink', 'eyes', 'ran', 'close', 'by', 'her', '.'], ['There', 'was', 'nothing', 'so', 'VERY', 'remarkable', 'in', 'that', ';', 'nor', 'did', 'Alice', 'think', 'it', 'so', 'VERY', 'much', 'out', 'of', 'the', 'way', 'to', 'hear', 'the', 'Rabbit', 'say', 'to', 'itself', ',', \"'\", 'Oh', 'dear', '!'], ['Oh', 'dear', '!'], ['I', 'shall', 'be', 'late', \"!'\"], ['(', 'when', 'she', 'thought', 'it', 'over', 'afterwards', ',', 'it', 'occurred', 'to', 'her', 'that', 'she', 'ought', 'to', 'have', 'wondered', 'at', 'this', ',', 'but', 'at', 'the', 'time', 'it', 'all', 'seemed', 'quite', 'natural', ');', 'but', 'when', 'the', 'Rabbit', 'actually', 'TOOK', 'A', 'WATCH', 'OUT', 'OF', 'ITS', 'WAISTCOAT', '-', 'POCKET', ',', 'and', 'looked', 'at', 'it', ',', 'and', 'then', 'hurried', 'on', ',', 'Alice', 'started', 'to', 'her', 'feet', ',', 'for', 'it', 'flashed', 'across', 'her', 'mind', 'that', 'she', 'had', 'never', 'before', 'seen', 'a', 'rabbit', 'with', 'either', 'a', 'waistcoat', '-', 'pocket', ',', 'or', 'a', 'watch', 'to', 'take', 'out', 'of', 'it', ',', 'and', 'burning', 'with', 'curiosity', ',', 'she', 'ran', 'across', 'the', 'field', 'after', 'it', ',', 'and', 'fortunately', 'was', 'just', 'in', 'time', 'to', 'see', 'it', 'pop', 'down', 'a', 'large', 'rabbit', '-', 'hole', 'under', 'the', 'hedge', '.'], ['In', 'another', 'moment', 'down', 'went', 'Alice', 'after', 'it', ',', 'never', 'once', 'considering', 'how', 'in', 'the', 'world', 'she', 'was', 'to', 'get', 'out', 'again', '.']]\n"
     ]
    }
   ],
   "source": [
    "# Load in libraries\n",
    "import nltk\n",
    "import re\n",
    "from nltk.tokenize import word_tokenize\n",
    "import untokenize\n",
    "\n",
    "# Line of code\n",
    "sentences = nltk.corpus.gutenberg.sents(\"carroll-alice.txt\")[:10]\n",
    "# View results\n",
    "print(sentences)"
   ]
  },
  {
   "cell_type": "code",
   "execution_count": 2,
   "id": "4eaae6d4",
   "metadata": {},
   "outputs": [],
   "source": [
    "# Define the function\n",
    "def sentences_function(sentences):\n",
    "    # Empty list to append to\n",
    "    sentence_list = []    \n",
    "    # Iterate through the lists within sentences\n",
    "    for i, word_list in enumerate(sentences):\n",
    "        # Concatenate the words together and remove spaces from punctuation\n",
    "        new_sentence = ' '.join(word_list).replace(' , ', ', ').replace(' : ', ': ').replace(\" ' \", \"'\").replace(\" ,'\", \",'\").replace(' ?', \"?\").replace(' .', '.').replace(' ;', ';').replace(\" !\", '!').replace('( ', '(').replace(' )', ')')\n",
    "        # append them to our empty list as a list (list of lists)\n",
    "        sentence_list.append([new_sentence])\n",
    "    # print the sentence list\n",
    "    print(sentence_list)"
   ]
  },
  {
   "cell_type": "code",
   "execution_count": 3,
   "id": "0b8d6fb2",
   "metadata": {},
   "outputs": [
    {
     "name": "stdout",
     "output_type": "stream",
     "text": [
      "[[\"[ Alice's Adventures in Wonderland by Lewis Carroll 1865 ]\"], ['CHAPTER I.'], ['Down the Rabbit - Hole'], [\"Alice was beginning to get very tired of sitting by her sister on the bank, and of having nothing to do: once or twice she had peeped into the book her sister was reading, but it had no pictures or conversations in it,'and what is the use of a book,' thought Alice'without pictures or conversation?'\"], ['So she was considering in her own mind (as well as she could, for the hot day made her feel very sleepy and stupid), whether the pleasure of making a daisy - chain would be worth the trouble of getting up and picking the daisies, when suddenly a White Rabbit with pink eyes ran close by her.'], [\"There was nothing so VERY remarkable in that; nor did Alice think it so VERY much out of the way to hear the Rabbit say to itself,'Oh dear!\"], ['Oh dear!'], [\"I shall be late!'\"], ['(when she thought it over afterwards, it occurred to her that she ought to have wondered at this, but at the time it all seemed quite natural); but when the Rabbit actually TOOK A WATCH OUT OF ITS WAISTCOAT - POCKET, and looked at it, and then hurried on, Alice started to her feet, for it flashed across her mind that she had never before seen a rabbit with either a waistcoat - pocket, or a watch to take out of it, and burning with curiosity, she ran across the field after it, and fortunately was just in time to see it pop down a large rabbit - hole under the hedge.'], ['In another moment down went Alice after it, never once considering how in the world she was to get out again.']]\n"
     ]
    }
   ],
   "source": [
    "# Test function\n",
    "sentences_function(sentences)"
   ]
  },
  {
   "cell_type": "markdown",
   "id": "5b7b486e",
   "metadata": {},
   "source": [
    "**2. Create a function that accepts a list of values. Filter out all values that are numeric and return the new list.**\n",
    "\n",
    "Input:\n",
    "[1,2,'a','b',7.6]\n",
    "\n",
    "output:\n",
    "[‘a’,’b’]"
   ]
  },
  {
   "cell_type": "code",
   "execution_count": 4,
   "id": "8efa034c",
   "metadata": {},
   "outputs": [],
   "source": [
    "# Given list\n",
    "input_list = [1,2,'a','b',7.6]"
   ]
  },
  {
   "cell_type": "code",
   "execution_count": 5,
   "id": "43e451f2",
   "metadata": {},
   "outputs": [],
   "source": [
    "# My function\n",
    "def alpha_list(input_list):\n",
    "    # Create new list that filters out the numbers\n",
    "    output = list(filter(lambda x: (type(x)!=int and type(x)!=float), input_list))\n",
    "    # print the output\n",
    "    print(output)"
   ]
  },
  {
   "cell_type": "code",
   "execution_count": 6,
   "id": "8039f490",
   "metadata": {},
   "outputs": [
    {
     "name": "stdout",
     "output_type": "stream",
     "text": [
      "['a', 'b']\n"
     ]
    }
   ],
   "source": [
    "# Test function\n",
    "alpha_list(input_list)"
   ]
  }
 ],
 "metadata": {
  "kernelspec": {
   "display_name": "Python 3 (ipykernel)",
   "language": "python",
   "name": "python3"
  },
  "language_info": {
   "codemirror_mode": {
    "name": "ipython",
    "version": 3
   },
   "file_extension": ".py",
   "mimetype": "text/x-python",
   "name": "python",
   "nbconvert_exporter": "python",
   "pygments_lexer": "ipython3",
   "version": "3.9.7"
  }
 },
 "nbformat": 4,
 "nbformat_minor": 5
}
