{
 "cells": [
  {
   "cell_type": "markdown",
   "id": "64991815",
   "metadata": {},
   "source": [
    "# In Class Exercise: Intro to Supervised Learning\n",
    "\n",
    "## 12/15/2021"
   ]
  },
  {
   "cell_type": "markdown",
   "id": "9f2968a1",
   "metadata": {},
   "source": [
    "**1. In markdown, describe KNN in your own words.**"
   ]
  },
  {
   "cell_type": "markdown",
   "id": "4a921d53",
   "metadata": {},
   "source": [
    "K-Nearest Neighbors (KNN) is a method for predicting data classifications or regressions. These predictions are based on the object's distance to other data points (K neighbors). The object will be \"classified\" based on a \"majority vote\" from the K-nearest neighbors. For example, if K=4, the object will be assigned to the classification of whatever the majority is of the 4 nearest points. For KNN regression, the output will be the average value of the K nearest neighbors. "
   ]
  },
  {
   "cell_type": "markdown",
   "id": "e75556d1",
   "metadata": {},
   "source": [
    "**2. Using the KNN example from class, write a function that finds the optimal value for k. You should iterate over a range of values and return the k and the score when the accuracy score is maximized. Be sure to only use odd values.**"
   ]
  },
  {
   "cell_type": "code",
   "execution_count": 70,
   "id": "c57184c8",
   "metadata": {},
   "outputs": [],
   "source": [
    "# Load necessary libraries\n",
    "import pandas as pd\n",
    "import numpy as np\n",
    "import matplotlib.pyplot as plt\n",
    "import seaborn as sns\n",
    "\n",
    "from sklearn.neighbors import KNeighborsClassifier\n",
    "from sklearn.model_selection import train_test_split"
   ]
  },
  {
   "cell_type": "code",
   "execution_count": 71,
   "id": "dce92bca",
   "metadata": {},
   "outputs": [
    {
     "data": {
      "text/html": [
       "<div>\n",
       "<style scoped>\n",
       "    .dataframe tbody tr th:only-of-type {\n",
       "        vertical-align: middle;\n",
       "    }\n",
       "\n",
       "    .dataframe tbody tr th {\n",
       "        vertical-align: top;\n",
       "    }\n",
       "\n",
       "    .dataframe thead th {\n",
       "        text-align: right;\n",
       "    }\n",
       "</style>\n",
       "<table border=\"1\" class=\"dataframe\">\n",
       "  <thead>\n",
       "    <tr style=\"text-align: right;\">\n",
       "      <th></th>\n",
       "      <th>Pregnancies</th>\n",
       "      <th>Glucose</th>\n",
       "      <th>BloodPressure</th>\n",
       "      <th>SkinThickness</th>\n",
       "      <th>Insulin</th>\n",
       "      <th>BMI</th>\n",
       "      <th>DiabetesPedigreeFunction</th>\n",
       "      <th>Age</th>\n",
       "      <th>Outcome</th>\n",
       "    </tr>\n",
       "  </thead>\n",
       "  <tbody>\n",
       "    <tr>\n",
       "      <th>0</th>\n",
       "      <td>6</td>\n",
       "      <td>148</td>\n",
       "      <td>72</td>\n",
       "      <td>35</td>\n",
       "      <td>0</td>\n",
       "      <td>33.6</td>\n",
       "      <td>0.627</td>\n",
       "      <td>50</td>\n",
       "      <td>1</td>\n",
       "    </tr>\n",
       "    <tr>\n",
       "      <th>1</th>\n",
       "      <td>1</td>\n",
       "      <td>85</td>\n",
       "      <td>66</td>\n",
       "      <td>29</td>\n",
       "      <td>0</td>\n",
       "      <td>26.6</td>\n",
       "      <td>0.351</td>\n",
       "      <td>31</td>\n",
       "      <td>0</td>\n",
       "    </tr>\n",
       "    <tr>\n",
       "      <th>2</th>\n",
       "      <td>8</td>\n",
       "      <td>183</td>\n",
       "      <td>64</td>\n",
       "      <td>0</td>\n",
       "      <td>0</td>\n",
       "      <td>23.3</td>\n",
       "      <td>0.672</td>\n",
       "      <td>32</td>\n",
       "      <td>1</td>\n",
       "    </tr>\n",
       "    <tr>\n",
       "      <th>3</th>\n",
       "      <td>1</td>\n",
       "      <td>89</td>\n",
       "      <td>66</td>\n",
       "      <td>23</td>\n",
       "      <td>94</td>\n",
       "      <td>28.1</td>\n",
       "      <td>0.167</td>\n",
       "      <td>21</td>\n",
       "      <td>0</td>\n",
       "    </tr>\n",
       "    <tr>\n",
       "      <th>4</th>\n",
       "      <td>0</td>\n",
       "      <td>137</td>\n",
       "      <td>40</td>\n",
       "      <td>35</td>\n",
       "      <td>168</td>\n",
       "      <td>43.1</td>\n",
       "      <td>2.288</td>\n",
       "      <td>33</td>\n",
       "      <td>1</td>\n",
       "    </tr>\n",
       "  </tbody>\n",
       "</table>\n",
       "</div>"
      ],
      "text/plain": [
       "   Pregnancies  Glucose  BloodPressure  SkinThickness  Insulin   BMI  \\\n",
       "0            6      148             72             35        0  33.6   \n",
       "1            1       85             66             29        0  26.6   \n",
       "2            8      183             64              0        0  23.3   \n",
       "3            1       89             66             23       94  28.1   \n",
       "4            0      137             40             35      168  43.1   \n",
       "\n",
       "   DiabetesPedigreeFunction  Age  Outcome  \n",
       "0                     0.627   50        1  \n",
       "1                     0.351   31        0  \n",
       "2                     0.672   32        1  \n",
       "3                     0.167   21        0  \n",
       "4                     2.288   33        1  "
      ]
     },
     "execution_count": 71,
     "metadata": {},
     "output_type": "execute_result"
    }
   ],
   "source": [
    "# Read in file and create data frame\n",
    "diabetes_df = pd.read_csv(\"diabetes.csv\")\n",
    "# View data frame\n",
    "diabetes_df.head()"
   ]
  },
  {
   "cell_type": "code",
   "execution_count": 3,
   "id": "e0bb9481",
   "metadata": {},
   "outputs": [],
   "source": [
    "# Create the predictor variables (drop everything, except the target)\n",
    "X = diabetes_df.drop('Outcome', axis=1)\n",
    "# Create the target variable (outcome)\n",
    "y = diabetes_df['Outcome']\n",
    "\n",
    "# Create the training data and the testing data\n",
    "X_train, X_test, y_train, y_test = train_test_split(X, y, test_size=0.3, random_state=4)\n",
    "\n",
    "# Standardization - transforming values so that mean is 0 and SD is 1\n",
    "from sklearn.preprocessing import StandardScaler\n",
    "# Create the standard scaler object \n",
    "sc = StandardScaler()\n",
    "# Fit the training data \n",
    "X_train = sc.fit_transform(X_train)\n",
    "# Fit the testing data\n",
    "X_test = sc.fit_transform(X_test)"
   ]
  },
  {
   "cell_type": "code",
   "execution_count": 68,
   "id": "9aacf2bc",
   "metadata": {},
   "outputs": [],
   "source": [
    "# Write function to test best score\n",
    "    # Test several values for the n_neighbors\n",
    "\n",
    "### 28 rule of thumb of where to start: square root of number of rows\n",
    "\n",
    "# Create lists to append to\n",
    "accuracy_list = []\n",
    "K_list = []\n",
    "\n",
    "def best_score():   \n",
    "    # Create a range for K to be in\n",
    "    for k in range(0,50):\n",
    "        # Check that K is odd (that way we don't have ties)\n",
    "        if k%2 !=0:\n",
    "            # Set the K-neighbors classifier\n",
    "            knn = KNeighborsClassifier(n_neighbors=k)\n",
    "            # Fit to the training data\n",
    "            knn.fit(X_train, y_train)\n",
    "            # Predict the testing data\n",
    "            y_predict = knn.predict(X_test)\n",
    "            # Find the score\n",
    "            score = knn.score(X_test, y_test)\n",
    "            # append the score to the accuracy list\n",
    "            accuracy_list.append(score)\n",
    "            # append the K value to the K_list\n",
    "            K_list.append(k)\n",
    "    else:\n",
    "        pass\n",
    "    \n",
    "    # Create data frame that contains the values from our two lists\n",
    "    knn_df = pd.DataFrame({'Score':accuracy_list,\n",
    "                          'K': K_list})\n",
    "    # Sort df by maximum score (highest to lowest), and then by K (lowest to highest)\n",
    "    # Change the index to match the sorted data\n",
    "    knn_sort = knn_df.sort_values(['Score','K'], ascending=[False,True], ignore_index=True)\n",
    "    \n",
    "    # Return the top row of the df\n",
    "    print(knn_sort.loc[0])\n",
    "\n",
    "    # Build the scatter plot\n",
    "    g = sns.scatterplot(data=knn_sort,\n",
    "                    x='K',\n",
    "                    y='Score',\n",
    "                    color='m',\n",
    "                    hue='Score',\n",
    "                    alpha=0.9,\n",
    "                    edgecolor='grey',\n",
    "                    linewidth=0.8,\n",
    "                    legend=False)\n",
    "\n",
    "    # Add plot title and adjust the y-axis label to include units\n",
    "    g.set_title('K Values with Score', size=14, weight='bold', pad=15)  \n",
    "\n",
    "    # Display plot\n",
    "    plt.show()"
   ]
  },
  {
   "cell_type": "code",
   "execution_count": 69,
   "id": "49a91453",
   "metadata": {},
   "outputs": [
    {
     "name": "stdout",
     "output_type": "stream",
     "text": [
      "Score     0.779221\n",
      "K        15.000000\n",
      "Name: 0, dtype: float64\n"
     ]
    },
    {
     "data": {
      "image/png": "[encoded data removed]",
      "text/plain": [
       "<Figure size 432x288 with 1 Axes>"
      ]
     },
     "metadata": {
      "needs_background": "light"
     },
     "output_type": "display_data"
    }
   ],
   "source": [
    "# Call our function to print the best score and display scatter plot of values\n",
    "best_score()"
   ]
  },
  {
   "cell_type": "markdown",
   "id": "bce05f4e",
   "metadata": {},
   "source": [
    "K value of 15 is the best because it is the lowest K value, with the highest score"
   ]
  },
  {
   "cell_type": "markdown",
   "id": "f67f7dac",
   "metadata": {},
   "source": [
    "**3. How did the panel influence your thoughts about working in tech, specifically work in the data realm? Discuss with your group and summarize your thoughts in under 250 words.**"
   ]
  },
  {
   "cell_type": "markdown",
   "id": "d71553ee",
   "metadata": {},
   "source": [
    "I enjoyed learning about the wide variety of tasks that everyone on the panel has. It was also encouraging to hear that there is a large appetite for mentorship and learning within the tech industry. The discussion made me think that the tech industry might be more \"inviting\" and welcoming than I had previously thought. It can be really intimidating, assuming that you must know \"everything\" before starting a job. I especially loved hearing about Susan's stories of needing to learn different tools on the fly. When I browse various job descriptions, the number of different tools businesses use can be overwhelming. It is nice to know that some of those tools can be learned on the job. \n",
    "\n",
    "At the same time, the panel really made me reflect on where I \"fit\" within the tech industry, because that is still unclear to me. I am trying to determine what my own strengths are and what my own next steps should be, regarding my professional development. I might want to take additional math courses or even consider getting another Masters degree. Because the tech industry seems to welcome growth and learning, I would really like to find mentors who would be willing to help me learn and also help me determine what avenues I should focus on. There are so many titles other than 'Data Scientist,' and I am still unclear on what the nuances are of those different career paths. But this panel definitely has me thinking! I was grateful to be exposed to their world. "
   ]
  }
 ],
 "metadata": {
  "kernelspec": {
   "display_name": "Python 3 (ipykernel)",
   "language": "python",
   "name": "python3"
  },
  "language_info": {
   "codemirror_mode": {
    "name": "ipython",
    "version": 3
   },
   "file_extension": ".py",
   "mimetype": "text/x-python",
   "name": "python",
   "nbconvert_exporter": "python",
   "pygments_lexer": "ipython3",
   "version": "3.9.7"
  }
 },
 "nbformat": 4,
 "nbformat_minor": 5
}
