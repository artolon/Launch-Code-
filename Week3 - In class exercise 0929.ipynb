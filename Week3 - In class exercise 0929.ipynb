{
 "cells": [
  {
   "cell_type": "code",
   "execution_count": 35,
   "id": "ca3c77eb",
   "metadata": {},
   "outputs": [
    {
     "name": "stdout",
     "output_type": "stream",
     "text": [
      " a + b = 8\n",
      " a - b = -2\n",
      " a * b = 15\n",
      " a + b = 6\n",
      "a - b = zero\n",
      " a * b = 9\n"
     ]
    }
   ],
   "source": [
    "# Create a function that accepts two values, a and b\n",
    "def my_function(a,b):\n",
    "    print(f' a + b = {(a+b)}')\n",
    "    \n",
    "    if (a-b==0):\n",
    "        print('a - b = zero')\n",
    "    \n",
    "    elif (a-b!=0):\n",
    "        print(f' a - b = {(a-b)}')       \n",
    "    \n",
    "    print(f' a * b = {(a*b)}')\n",
    "    \n",
    "#return f' whatever you want to say {(5+5)}'\n",
    "\n",
    "my_function(3,5)\n",
    "my_function(3,3)"
   ]
  }
 ],
 "metadata": {
  "kernelspec": {
   "display_name": "Python 3 (ipykernel)",
   "language": "python",
   "name": "python3"
  },
  "language_info": {
   "codemirror_mode": {
    "name": "ipython",
    "version": 3
   },
   "file_extension": ".py",
   "mimetype": "text/x-python",
   "name": "python",
   "nbconvert_exporter": "python",
   "pygments_lexer": "ipython3",
   "version": "3.9.7"
  }
 },
 "nbformat": 4,
 "nbformat_minor": 5
}
