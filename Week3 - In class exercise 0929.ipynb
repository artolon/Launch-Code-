{
 "cells": [
  {
   "cell_type": "code",
   "execution_count": 6,
   "id": "7685e88e",
   "metadata": {},
   "outputs": [],
   "source": [
    "# Here is my function\n",
    "def my_function(a,b):\n",
    "    if (a+b==0):\n",
    "        print('a + b = zero')\n",
    "    \n",
    "    elif (a+b!=0):\n",
    "        print(f' a + b = {(a+b)}') \n",
    "    \n",
    "    if (a-b==0):\n",
    "        print('a - b = zero')\n",
    "    \n",
    "    elif (a-b!=0):\n",
    "        print(f' a - b = {(a-b)}')       \n",
    "    \n",
    "    if (a*b==0):\n",
    "        print('a * b = zero')\n",
    "    \n",
    "    elif (a*b!=0):\n",
    "        print(f' a * b = {(a*b)}') "
   ]
  },
  {
   "cell_type": "code",
   "execution_count": 7,
   "id": "9b94474a",
   "metadata": {},
   "outputs": [
    {
     "name": "stdout",
     "output_type": "stream",
     "text": [
      " a + b = 8\n",
      " a - b = -2\n",
      " a * b = 15\n"
     ]
    }
   ],
   "source": [
    "# No zeros\n",
    "my_function(3,5)"
   ]
  },
  {
   "cell_type": "code",
   "execution_count": 8,
   "id": "ca48fae8",
   "metadata": {},
   "outputs": [
    {
     "name": "stdout",
     "output_type": "stream",
     "text": [
      "a + b = zero\n",
      " a - b = -2\n",
      " a * b = -1\n"
     ]
    }
   ],
   "source": [
    "# Addition is zero\n",
    "my_function(-1,1)"
   ]
  },
  {
   "cell_type": "code",
   "execution_count": 9,
   "id": "ca76e41b",
   "metadata": {},
   "outputs": [
    {
     "name": "stdout",
     "output_type": "stream",
     "text": [
      " a + b = 6\n",
      "a - b = zero\n",
      " a * b = 9\n"
     ]
    }
   ],
   "source": [
    "# Subtraction is zero\n",
    "my_function(3,3)"
   ]
  },
  {
   "cell_type": "code",
   "execution_count": 10,
   "id": "540f83c7",
   "metadata": {},
   "outputs": [
    {
     "name": "stdout",
     "output_type": "stream",
     "text": [
      " a + b = 3\n",
      " a - b = 3\n",
      "a * b = zero\n"
     ]
    }
   ],
   "source": [
    "# Multiplication is zero\n",
    "my_function(3,0)"
   ]
  }
 ],
 "metadata": {
  "kernelspec": {
   "display_name": "Python 3 (ipykernel)",
   "language": "python",
   "name": "python3"
  },
  "language_info": {
   "codemirror_mode": {
    "name": "ipython",
    "version": 3
   },
   "file_extension": ".py",
   "mimetype": "text/x-python",
   "name": "python",
   "nbconvert_exporter": "python",
   "pygments_lexer": "ipython3",
   "version": "3.9.7"
  }
 },
 "nbformat": 4,
 "nbformat_minor": 5
}
