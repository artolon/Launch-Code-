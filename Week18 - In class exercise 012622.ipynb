{
 "cells": [
  {
   "cell_type": "markdown",
   "id": "4dcdc74f",
   "metadata": {},
   "source": [
    "**1. Look up the Adam optimization functions in PyTorch https://pytorch.org/docs/stable/optim.html . How does it work? Try at least one other optimization function with the diabetes dataset shown in class. How does the model perform with the new optimizer? Did it perform better or worse than Adam? Why do you think that is?**"
   ]
  },
  {
   "cell_type": "markdown",
   "id": "79d7bb9b",
   "metadata": {},
   "source": [
    "- Optimization functions using the adam algorithm\n",
    "    - They are a good replacement for stochastic gradient descent (in other words, learning rate changes for Adam)\n",
    "    - They utilize the best qualities of other algorithms (Adaptive Gradient Algorithm - AdaGrad and Root Mean Square Propagation - RMSProp) for problems with a lot of \"noise\" and sparse gradients\n",
    "    - It's a versatile algorithm that adjusts the learning rates to ensure reasonable values through weight optimization\n",
    "    - It usually acheives good results for deep learning models\n",
    "    \n",
    "Our group tested a different optimizer called Adamax, which is a variant of Adam. It performed better, overall. The accuracy score between the two classification reports was only 1 point different. However, the Adamax optimizer increased the recall value from 48% to 62%. This is quite a large difference, especially considering it is the only change we made in the model! I think it performs better because, according to my quick research, Adamax is updating parameters less often, so there is less opportunity for \"noise.\""
   ]
  },
  {
   "cell_type": "markdown",
   "id": "dcb15b50",
   "metadata": {},
   "source": [
    "**Code from class**\n",
    "\n",
    "We changed the optimizer from Adam to Adamax"
   ]
  },
  {
   "cell_type": "code",
   "execution_count": 27,
   "id": "00ecc37a",
   "metadata": {},
   "outputs": [],
   "source": [
    "# Test out code\n",
    "import pandas as pd\n",
    "import torch\n",
    "from sklearn.model_selection import train_test_split\n",
    "from sklearn.preprocessing import StandardScaler\n",
    "import torch.nn as nn\n",
    "import torch.nn.functional as F #where the activation functions are\n",
    "\n",
    "diabetes_df = pd.read_csv('diabetes.csv')\n",
    "\n",
    "X = diabetes_df.drop('Outcome', axis=1).values\n",
    "y = diabetes_df['Outcome'].values\n",
    "\n",
    "# Split into training and test set\n",
    "X_train, X_test, y_train, y_test = train_test_split(X, y, test_size = 0.3, random_state=42, stratify=y)\n",
    "\n",
    "# #Standardize\n",
    "sc= StandardScaler()\n",
    "X_train=sc.fit_transform(X_train)\n",
    "X_test=sc.fit_transform(X_test)"
   ]
  },
  {
   "cell_type": "code",
   "execution_count": 28,
   "id": "9f320d2c",
   "metadata": {},
   "outputs": [],
   "source": [
    "#create tensors = matrices \n",
    "X_train = torch.FloatTensor(X_train) \n",
    "X_test = torch.FloatTensor(X_test)\n",
    "\n",
    "y_train = torch.LongTensor(y_train)\n",
    "y_test = torch.LongTensor(y_test)"
   ]
  },
  {
   "cell_type": "code",
   "execution_count": 29,
   "id": "7db5bafd",
   "metadata": {},
   "outputs": [],
   "source": [
    "#artificial neural network\n",
    "class ANN_Model(nn.Module):\n",
    "    def __init__(self, input_features=8,hidden1=20,hidden2=20,out_features=2):\n",
    "        super().__init__() #super is a computed indirect reference. So, it isolates changes\n",
    "        # and makes sure that children in the layers of multiple inheritence are calling\n",
    "        #the right parents\n",
    "        self.layer_1_connection = nn.Linear(input_features, hidden1)\n",
    "        self.layer_2_connection = nn.Linear(hidden1, hidden2)\n",
    "        self.out = nn.Linear(hidden2, out_features)\n",
    "        \n",
    "    def forward(self, x):\n",
    "        #apply activation functions\n",
    "        x = F.relu(self.layer_1_connection(x))\n",
    "        x = F.relu(self.layer_2_connection(x))\n",
    "        x = self.out(x)\n",
    "        return x"
   ]
  },
  {
   "cell_type": "code",
   "execution_count": 30,
   "id": "358070d5",
   "metadata": {},
   "outputs": [],
   "source": [
    "# manually set the seed\n",
    "torch.manual_seed(42)\n",
    "\n",
    "#create instance of model\n",
    "ann = ANN_Model()\n",
    "\n",
    "#loss function\n",
    "loss_function = nn.CrossEntropyLoss()"
   ]
  },
  {
   "cell_type": "markdown",
   "id": "70c4d6fc",
   "metadata": {},
   "source": [
    "**Change made here!**"
   ]
  },
  {
   "cell_type": "code",
   "execution_count": 31,
   "id": "51416e64",
   "metadata": {},
   "outputs": [],
   "source": [
    "#optimizer\n",
    "optimizer = torch.optim.Adamax(ann.parameters(),lr=0.01)"
   ]
  },
  {
   "cell_type": "code",
   "execution_count": 130,
   "id": "29ccb124",
   "metadata": {},
   "outputs": [],
   "source": [
    "#run model through multiple epochs/iterations\n",
    "final_loss = []\n",
    "n_epochs = 500\n",
    "for epoch in range(n_epochs):\n",
    "    y_pred = ann.forward(X_train)\n",
    "    loss = loss_function(y_pred, y_train)\n",
    "    final_loss.append(loss)\n",
    "    \n",
    "#     if epoch % 10 == 1:\n",
    "#         print(f'Epoch number: {epoch} with loss: {loss}')\n",
    "        \n",
    "    optimizer.zero_grad() #zero the gradient before running backwards propagation\n",
    "    loss.backward() \n",
    "    optimizer.step() #perform one optimization step each epoch"
   ]
  },
  {
   "cell_type": "code",
   "execution_count": 34,
   "id": "4a002e7e",
   "metadata": {},
   "outputs": [],
   "source": [
    "#predictions\n",
    "y_pred = []\n",
    "\n",
    "with torch.no_grad(): #decreases memory consumption\n",
    "    for i, data in enumerate(X_test):\n",
    "        prediction = ann(data)\n",
    "        y_pred.append(prediction.argmax()) #returns index with max element in each prediction set"
   ]
  },
  {
   "cell_type": "markdown",
   "id": "e94062cb",
   "metadata": {},
   "source": [
    "**Revised classification report**"
   ]
  },
  {
   "cell_type": "code",
   "execution_count": 35,
   "id": "a71f8ee0",
   "metadata": {},
   "outputs": [
    {
     "name": "stdout",
     "output_type": "stream",
     "text": [
      "              precision    recall  f1-score   support\n",
      "\n",
      "           0       0.78      0.75      0.76       150\n",
      "           1       0.57      0.62      0.59        81\n",
      "\n",
      "    accuracy                           0.70       231\n",
      "   macro avg       0.68      0.68      0.68       231\n",
      "weighted avg       0.71      0.70      0.70       231\n",
      "\n"
     ]
    }
   ],
   "source": [
    "from sklearn.metrics import classification_report\n",
    "\n",
    "# print classification report\n",
    "print(classification_report(y_test, y_pred))"
   ]
  },
  {
   "cell_type": "markdown",
   "id": "d79c14a0",
   "metadata": {},
   "source": [
    "**2. Write a function that lists and counts the number of divisors for an input value.**\n",
    "\n",
    "**Example 1:**\n",
    "\n",
    "Input: 5\n",
    "\n",
    "Output: “There are 2 divisors: 1 and 5”\n",
    "\n",
    "**Example 2:**\n",
    "\n",
    "Input: 40\n",
    "\n",
    "Output: “There are 8 divisors: 1, 2, 4, 5, 8, 10, 20, and 40”"
   ]
  },
  {
   "cell_type": "code",
   "execution_count": 127,
   "id": "04abb9a2",
   "metadata": {},
   "outputs": [],
   "source": [
    "# Define divisors function\n",
    "def divisors():\n",
    "    \n",
    "    # error handling\n",
    "    try:\n",
    "    \n",
    "        # Create input to enter a number\n",
    "        number = int(input('Enter an integer '))\n",
    "\n",
    "        # Create empty list to store divisors\n",
    "        div_list = []\n",
    "\n",
    "        # iterate input to find the divisors for that number\n",
    "        for d in range(1, number+1):\n",
    "            # Check to see if there is no remainder\n",
    "            if number%d == 0:\n",
    "                # append the divisor to the list\n",
    "                div_list.append(d)\n",
    "\n",
    "        # count the number of divisors\n",
    "        count = len(div_list)\n",
    "        # convert the div_list to a string\n",
    "        string_divs = list(map(str, div_list))\n",
    "        # reformat to add commas and \"and\" between last values\n",
    "        organized_divs = ' and '.join(', '.join(string_divs).rsplit(', ', 1))\n",
    "        \n",
    "        # print input so user remembers their value\n",
    "        print(\"Input: \" + str(number))\n",
    "        \n",
    "        # Output for user\n",
    "        return f'There are {count} divisors: {organized_divs}'\n",
    "    \n",
    "    # print error if wrong input is given\n",
    "    except Exception as e:\n",
    "        print('Try again with an integer')"
   ]
  },
  {
   "cell_type": "code",
   "execution_count": 122,
   "id": "3445d469",
   "metadata": {},
   "outputs": [
    {
     "name": "stdout",
     "output_type": "stream",
     "text": [
      "Enter an integer 5\n",
      "Input: 5\n"
     ]
    },
    {
     "data": {
      "text/plain": [
       "'There are 2 divisors: 1 and 5'"
      ]
     },
     "execution_count": 122,
     "metadata": {},
     "output_type": "execute_result"
    }
   ],
   "source": [
    "# Call function with example 1: \n",
    "# Input = 5\n",
    "divisors()"
   ]
  },
  {
   "cell_type": "code",
   "execution_count": 119,
   "id": "ff542319",
   "metadata": {},
   "outputs": [
    {
     "name": "stdout",
     "output_type": "stream",
     "text": [
      "Enter an integer 40\n",
      "Input: 40\n"
     ]
    },
    {
     "data": {
      "text/plain": [
       "'There are 8 divisors: 1, 2, 4, 5, 8, 10, 20 and 40'"
      ]
     },
     "execution_count": 119,
     "metadata": {},
     "output_type": "execute_result"
    }
   ],
   "source": [
    "# Call function with example 2: \n",
    "# Input 40\n",
    "divisors()"
   ]
  },
  {
   "cell_type": "code",
   "execution_count": 128,
   "id": "9cefae1a",
   "metadata": {},
   "outputs": [
    {
     "name": "stdout",
     "output_type": "stream",
     "text": [
      "Enter an integer 5.5\n",
      "Try again with an integer\n"
     ]
    }
   ],
   "source": [
    "# Error\n",
    "# Input 5.5\n",
    "divisors()"
   ]
  },
  {
   "cell_type": "code",
   "execution_count": 129,
   "id": "afb016e9",
   "metadata": {},
   "outputs": [
    {
     "name": "stdout",
     "output_type": "stream",
     "text": [
      "Enter an integer watermelon\n",
      "Try again with an integer\n"
     ]
    }
   ],
   "source": [
    "# Error\n",
    "# Input watermelon\n",
    "divisors()"
   ]
  }
 ],
 "metadata": {
  "kernelspec": {
   "display_name": "Python 3 (ipykernel)",
   "language": "python",
   "name": "python3"
  },
  "language_info": {
   "codemirror_mode": {
    "name": "ipython",
    "version": 3
   },
   "file_extension": ".py",
   "mimetype": "text/x-python",
   "name": "python",
   "nbconvert_exporter": "python",
   "pygments_lexer": "ipython3",
   "version": "3.9.7"
  }
 },
 "nbformat": 4,
 "nbformat_minor": 5
}
