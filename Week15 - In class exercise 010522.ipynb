{
 "cells": [
  {
   "cell_type": "markdown",
   "id": "fb485e01",
   "metadata": {},
   "source": [
    "1. Look up SMOTE oversampling\n",
    "https://imbalanced-learn.org/stable/references/generated/imblearn.over_sampling.SMOTE.html .\n",
    "    - a. Describe what it is in your own words in markdown.\n",
    "    - b. Use this technique with the diabetes dataset. Comment on the model performance compared to other methods. Make sure you are clear about why you chose the performance metric you did.\n"
   ]
  },
  {
   "cell_type": "markdown",
   "id": "9d0421f5",
   "metadata": {},
   "source": [
    "**What is SMOTE?**\n",
    "\n",
    "SMOTE is an abbreviation for \"Synthetic Minority Over-sampling Technique.\" It is a way for us to oversample our minority data by creating synthetic minority samples so that we can have a more balanced data set. This can allow for improved recall in our model, for accurately predicting any minority cases that we have. SMOTE utilizes k-nearest neighbor algorithms to create the synthetic data. This is a key way that SMOTE differs from some other resampling techniques. For example, the RandomOverSample method duplicates some of the minority data. SMOTE, however, does not duplicate. It basically creates \"new\" minority data, using the k-nearest neighbor algorithm. This is repeated until your minority class is large enough to have an appropriately balanced data set."
   ]
  },
  {
   "cell_type": "markdown",
   "id": "653c6eaa",
   "metadata": {},
   "source": [
    "**Example of This Technique**"
   ]
  },
  {
   "cell_type": "code",
   "execution_count": 22,
   "id": "5c0408d3",
   "metadata": {},
   "outputs": [],
   "source": [
    "# Load in modules\n",
    "import pandas as pd\n",
    "import numpy as np\n",
    "\n",
    "# Read in the diabetes file\n",
    "diabetes = pd.read_csv('diabetes.csv')"
   ]
  },
  {
   "cell_type": "code",
   "execution_count": 23,
   "id": "87bfa02f",
   "metadata": {
    "scrolled": true
   },
   "outputs": [
    {
     "data": {
      "text/html": [
       "<div>\n",
       "<style scoped>\n",
       "    .dataframe tbody tr th:only-of-type {\n",
       "        vertical-align: middle;\n",
       "    }\n",
       "\n",
       "    .dataframe tbody tr th {\n",
       "        vertical-align: top;\n",
       "    }\n",
       "\n",
       "    .dataframe thead th {\n",
       "        text-align: right;\n",
       "    }\n",
       "</style>\n",
       "<table border=\"1\" class=\"dataframe\">\n",
       "  <thead>\n",
       "    <tr style=\"text-align: right;\">\n",
       "      <th></th>\n",
       "      <th>Pregnancies</th>\n",
       "      <th>Glucose</th>\n",
       "      <th>BloodPressure</th>\n",
       "      <th>SkinThickness</th>\n",
       "      <th>Insulin</th>\n",
       "      <th>BMI</th>\n",
       "      <th>DiabetesPedigreeFunction</th>\n",
       "      <th>Age</th>\n",
       "      <th>Outcome</th>\n",
       "    </tr>\n",
       "  </thead>\n",
       "  <tbody>\n",
       "    <tr>\n",
       "      <th>0</th>\n",
       "      <td>6</td>\n",
       "      <td>148</td>\n",
       "      <td>72</td>\n",
       "      <td>35</td>\n",
       "      <td>0</td>\n",
       "      <td>33.6</td>\n",
       "      <td>0.627</td>\n",
       "      <td>50</td>\n",
       "      <td>1</td>\n",
       "    </tr>\n",
       "    <tr>\n",
       "      <th>1</th>\n",
       "      <td>1</td>\n",
       "      <td>85</td>\n",
       "      <td>66</td>\n",
       "      <td>29</td>\n",
       "      <td>0</td>\n",
       "      <td>26.6</td>\n",
       "      <td>0.351</td>\n",
       "      <td>31</td>\n",
       "      <td>0</td>\n",
       "    </tr>\n",
       "    <tr>\n",
       "      <th>2</th>\n",
       "      <td>8</td>\n",
       "      <td>183</td>\n",
       "      <td>64</td>\n",
       "      <td>0</td>\n",
       "      <td>0</td>\n",
       "      <td>23.3</td>\n",
       "      <td>0.672</td>\n",
       "      <td>32</td>\n",
       "      <td>1</td>\n",
       "    </tr>\n",
       "    <tr>\n",
       "      <th>3</th>\n",
       "      <td>1</td>\n",
       "      <td>89</td>\n",
       "      <td>66</td>\n",
       "      <td>23</td>\n",
       "      <td>94</td>\n",
       "      <td>28.1</td>\n",
       "      <td>0.167</td>\n",
       "      <td>21</td>\n",
       "      <td>0</td>\n",
       "    </tr>\n",
       "    <tr>\n",
       "      <th>4</th>\n",
       "      <td>0</td>\n",
       "      <td>137</td>\n",
       "      <td>40</td>\n",
       "      <td>35</td>\n",
       "      <td>168</td>\n",
       "      <td>43.1</td>\n",
       "      <td>2.288</td>\n",
       "      <td>33</td>\n",
       "      <td>1</td>\n",
       "    </tr>\n",
       "  </tbody>\n",
       "</table>\n",
       "</div>"
      ],
      "text/plain": [
       "   Pregnancies  Glucose  BloodPressure  SkinThickness  Insulin   BMI  \\\n",
       "0            6      148             72             35        0  33.6   \n",
       "1            1       85             66             29        0  26.6   \n",
       "2            8      183             64              0        0  23.3   \n",
       "3            1       89             66             23       94  28.1   \n",
       "4            0      137             40             35      168  43.1   \n",
       "\n",
       "   DiabetesPedigreeFunction  Age  Outcome  \n",
       "0                     0.627   50        1  \n",
       "1                     0.351   31        0  \n",
       "2                     0.672   32        1  \n",
       "3                     0.167   21        0  \n",
       "4                     2.288   33        1  "
      ]
     },
     "execution_count": 23,
     "metadata": {},
     "output_type": "execute_result"
    }
   ],
   "source": [
    "# View the file\n",
    "diabetes.head()"
   ]
  },
  {
   "cell_type": "markdown",
   "id": "e909dded",
   "metadata": {},
   "source": [
    "First, set up the data and split into training and testing sets. Next, standardize before moving onto to resampling."
   ]
  },
  {
   "cell_type": "code",
   "execution_count": 24,
   "id": "ae1f78bb",
   "metadata": {},
   "outputs": [],
   "source": [
    "# Import necessary modules\n",
    "from sklearn.linear_model import LogisticRegression\n",
    "from sklearn.model_selection import train_test_split\n",
    "from sklearn.preprocessing import StandardScaler\n",
    "\n",
    "# Drop outcome, so that we only have predictors\n",
    "X = diabetes.drop('Outcome', axis=1)\n",
    "# Keep outcome as the target variable\n",
    "y = diabetes['Outcome']\n",
    "\n",
    "# Split into training and testing data\n",
    "X_train, X_test, y_train, y_test = train_test_split(X,y,test_size=0.3, random_state=42, stratify=y)\n",
    "\n",
    "# standardize\n",
    "sc = StandardScaler()\n",
    "\n",
    "# Fit the standardized classifier to training and testing data\n",
    "X_train_scaler = sc.fit_transform(X_train)\n",
    "X_test_scaler = sc.fit_transform(X_test)"
   ]
  },
  {
   "cell_type": "markdown",
   "id": "de3839e7",
   "metadata": {},
   "source": [
    "Utilize the SMOTE resampling technique"
   ]
  },
  {
   "cell_type": "code",
   "execution_count": 25,
   "id": "b4cc2592",
   "metadata": {},
   "outputs": [],
   "source": [
    "# Import module to use SMOTE\n",
    "from imblearn.over_sampling import SMOTE\n",
    "\n",
    "# Instantiate the classifier\n",
    "sm = SMOTE(random_state=33)\n",
    "\n",
    "# Complete the classification on our training data\n",
    "X_res, y_res = sm.fit_resample(X_train_scaler, y_train)"
   ]
  },
  {
   "cell_type": "markdown",
   "id": "235d7a94",
   "metadata": {},
   "source": [
    "Build and fit our logistic regression model to the resampled data"
   ]
  },
  {
   "cell_type": "code",
   "execution_count": 26,
   "id": "8a85560c",
   "metadata": {},
   "outputs": [
    {
     "data": {
      "text/plain": [
       "LogisticRegression(random_state=33)"
      ]
     },
     "execution_count": 26,
     "metadata": {},
     "output_type": "execute_result"
    }
   ],
   "source": [
    "# Build the logistic Regression model\n",
    "model = LogisticRegression(random_state=33)\n",
    "# Fit the model to the resampled data\n",
    "model.fit(X_res, y_res)"
   ]
  },
  {
   "cell_type": "markdown",
   "id": "b71de953",
   "metadata": {},
   "source": [
    "View the classification report to see how well our model is performing"
   ]
  },
  {
   "cell_type": "code",
   "execution_count": 28,
   "id": "4a100cc5",
   "metadata": {},
   "outputs": [
    {
     "name": "stdout",
     "output_type": "stream",
     "text": [
      "                   pre       rec       spe        f1       geo       iba       sup\n",
      "\n",
      "          0       0.83      0.77      0.70      0.80      0.74      0.55       150\n",
      "          1       0.63      0.70      0.77      0.66      0.74      0.54        81\n",
      "\n",
      "avg / total       0.76      0.75      0.73      0.75      0.74      0.55       231\n",
      "\n"
     ]
    }
   ],
   "source": [
    "from imblearn.metrics import classification_report_imbalanced\n",
    "\n",
    "# Print the report from the oversampled model\n",
    "print(classification_report_imbalanced(y_test, y_pred)) "
   ]
  },
  {
   "cell_type": "markdown",
   "id": "53a10707",
   "metadata": {},
   "source": [
    "**Model Performance**\n",
    "\n",
    "I have selected *recall* as my metric for measuring performance across models. I selected this metric because I am most interested in identifying true positives. In other words, it is very important to me that someone who has diabetes knows accurately that they have diabetes. This will maximize the number of patients able to get the necessary treatment as quickly as possible.\n",
    "\n",
    "*SMOTE*\n",
    "\n",
    "When using SMOTE, the recall was 70%, meaning that of all the people in our sample who truly have diabetes, we accurately predicted 70% of them (our sensitivity). \n",
    "\n",
    "*Random Over Sampler*\n",
    "\n",
    "During the class lecture, we used the RandomOverSampler technique, which yielded a recall of 73% for people who have diabetes. \n",
    "\n",
    "*Original - No resampling methods*\n",
    "\n",
    "Contrastingly, the original logistic regression model, that did not use any oversampling techniques, had a recall of 62%, which understandably was the worst of the 3 methods. This is understandable because our minority class was inherently smaller. This means we know less about them, and thus, are not as good at making predictions about them.\n",
    "\n",
    "*Best result*\n",
    "\n",
    "After examining all the results, the example from class, utilizing the random over sampler yielded the best recall results. This indicates that this model is the best at predicting whether a person truly has diabetes."
   ]
  },
  {
   "cell_type": "markdown",
   "id": "f4ded710",
   "metadata": {},
   "source": [
    "2. Create a function called rec_digit_sum that takes in an integer. This function is the recursive sum of all the digits in a number. Given n, take the sum of all the digits in n. If the resulting value has more than one digit, continue calling the function in this way until a single-digit number is produced. The input will be a non-negative integer, and this should work for extremely large values as well as for single-digit inputs.\n",
    "\n",
    "**Examples:**\n",
    "\n",
    "16 --> 1 + 6 = 7\n",
    "\n",
    "942 --> 9 + 4 + 2 = 15 --> 1 + 5 = 6\n",
    "\n",
    "132189 --> 1 + 3 + 2 + 1 + 8 + 9 = 24 --> 2 + 4 = 6\n",
    "\n",
    "493193 --> 4 + 9 + 3 + 1 + 9 + 3 = 29 --> 2 + 9 = 11"
   ]
  },
  {
   "cell_type": "markdown",
   "id": "c4b63d5e",
   "metadata": {},
   "source": [
    "**Create the Function**"
   ]
  },
  {
   "cell_type": "code",
   "execution_count": 93,
   "id": "e6a42721",
   "metadata": {},
   "outputs": [],
   "source": [
    "# Create a function that takes in an integer\n",
    "def rec_digit_sum(n):\n",
    "    # Try except handling to ensure we only use integers\n",
    "    try:\n",
    "        # Convert the argument integer into a string\n",
    "        # Place the string into a list, so that we can iterate over it\n",
    "        num_list = list(str(n))\n",
    "        \n",
    "        # Iterate through the list\n",
    "        num = [int(n) for n in num_list]\n",
    "        # Add up all the elements of the number list\n",
    "        sum_num = sum(num)\n",
    "        # Check to see if the length of the list is greater than 1\n",
    "        if len(str(sum_num)) >1:\n",
    "            # If it is, call the function again\n",
    "            rec_digit_sum(sum_num)\n",
    "        # If it's not, just print the value\n",
    "        else:\n",
    "            print(sum_num)\n",
    "    # Error message if someone puts in the wrong argument\n",
    "    except ValueError:\n",
    "        print('Please input an integer')"
   ]
  },
  {
   "cell_type": "markdown",
   "id": "b667be48",
   "metadata": {},
   "source": [
    "**Test the Function on Sample Output**"
   ]
  },
  {
   "cell_type": "code",
   "execution_count": 94,
   "id": "9784d0d1",
   "metadata": {},
   "outputs": [
    {
     "name": "stdout",
     "output_type": "stream",
     "text": [
      "Please input an integer\n"
     ]
    }
   ],
   "source": [
    "rec_digit_sum(5.5)"
   ]
  },
  {
   "cell_type": "code",
   "execution_count": 95,
   "id": "24bf5454",
   "metadata": {},
   "outputs": [
    {
     "name": "stdout",
     "output_type": "stream",
     "text": [
      "7\n"
     ]
    }
   ],
   "source": [
    "rec_digit_sum(16)"
   ]
  },
  {
   "cell_type": "code",
   "execution_count": 96,
   "id": "04762a16",
   "metadata": {},
   "outputs": [
    {
     "name": "stdout",
     "output_type": "stream",
     "text": [
      "6\n"
     ]
    }
   ],
   "source": [
    "rec_digit_sum(942)"
   ]
  },
  {
   "cell_type": "code",
   "execution_count": 97,
   "id": "e582fa37",
   "metadata": {},
   "outputs": [
    {
     "name": "stdout",
     "output_type": "stream",
     "text": [
      "6\n"
     ]
    }
   ],
   "source": [
    "rec_digit_sum(132189)"
   ]
  },
  {
   "cell_type": "code",
   "execution_count": 98,
   "id": "fc32b93b",
   "metadata": {},
   "outputs": [
    {
     "name": "stdout",
     "output_type": "stream",
     "text": [
      "2\n"
     ]
    }
   ],
   "source": [
    "rec_digit_sum(493193)"
   ]
  }
 ],
 "metadata": {
  "kernelspec": {
   "display_name": "Python 3 (ipykernel)",
   "language": "python",
   "name": "python3"
  },
  "language_info": {
   "codemirror_mode": {
    "name": "ipython",
    "version": 3
   },
   "file_extension": ".py",
   "mimetype": "text/x-python",
   "name": "python",
   "nbconvert_exporter": "python",
   "pygments_lexer": "ipython3",
   "version": "3.9.7"
  }
 },
 "nbformat": 4,
 "nbformat_minor": 5
}
