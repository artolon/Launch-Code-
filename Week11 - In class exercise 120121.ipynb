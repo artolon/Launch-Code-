{
 "cells": [
  {
   "cell_type": "markdown",
   "id": "ff9c35f9",
   "metadata": {},
   "source": [
    "# In Class Exercise: 12/01/21\n",
    "\n",
    "## Intro to Time Series Analysis"
   ]
  },
  {
   "cell_type": "markdown",
   "id": "22207755",
   "metadata": {},
   "source": [
    "**1. Explore Google Trends https://trends.google.com/ . Find a topic of interest to you with more than a year of trend data, and export it.**\n",
    "\n",
    "    - Import the data into a pandas dataframe\n",
    "    - Decide whether ARIMA or SARIMA makes more sense for the dataset\n",
    "    - Run either an ARIMA or SARIMA on it\n",
    "    - Explain the results\n",
    "    - Discuss your findings with your group and explain what trend someone else chose and why they chose the model they did"
   ]
  },
  {
   "cell_type": "code",
   "execution_count": 2,
   "id": "a7bb0b52",
   "metadata": {},
   "outputs": [],
   "source": [
    "# Load pandas as pd\n",
    "import pandas as pd\n",
    "import matplotlib.pyplot as plt"
   ]
  },
  {
   "cell_type": "markdown",
   "id": "10f03fc1",
   "metadata": {},
   "source": [
    "**Context**\n",
    "\n",
    "I was an Epidemiologist before my current role, so I was interested in looking at trends for the search term, \"Epidemiology.\" I was especially interested to see if there was a spike of searches during the start of the pandemic.\n",
    "\n",
    "I searched for the past 5 years of data for this analysis."
   ]
  },
  {
   "cell_type": "code",
   "execution_count": 3,
   "id": "13231e89",
   "metadata": {},
   "outputs": [
    {
     "data": {
      "text/html": [
       "<div>\n",
       "<style scoped>\n",
       "    .dataframe tbody tr th:only-of-type {\n",
       "        vertical-align: middle;\n",
       "    }\n",
       "\n",
       "    .dataframe tbody tr th {\n",
       "        vertical-align: top;\n",
       "    }\n",
       "\n",
       "    .dataframe thead th {\n",
       "        text-align: right;\n",
       "    }\n",
       "</style>\n",
       "<table border=\"1\" class=\"dataframe\">\n",
       "  <thead>\n",
       "    <tr style=\"text-align: right;\">\n",
       "      <th></th>\n",
       "      <th>Week</th>\n",
       "      <th>Epidemiology: (United States)</th>\n",
       "    </tr>\n",
       "  </thead>\n",
       "  <tbody>\n",
       "    <tr>\n",
       "      <th>0</th>\n",
       "      <td>12/4/2016</td>\n",
       "      <td>48</td>\n",
       "    </tr>\n",
       "    <tr>\n",
       "      <th>1</th>\n",
       "      <td>12/11/2016</td>\n",
       "      <td>35</td>\n",
       "    </tr>\n",
       "    <tr>\n",
       "      <th>2</th>\n",
       "      <td>12/18/2016</td>\n",
       "      <td>22</td>\n",
       "    </tr>\n",
       "    <tr>\n",
       "      <th>3</th>\n",
       "      <td>12/25/2016</td>\n",
       "      <td>19</td>\n",
       "    </tr>\n",
       "    <tr>\n",
       "      <th>4</th>\n",
       "      <td>1/1/2017</td>\n",
       "      <td>22</td>\n",
       "    </tr>\n",
       "  </tbody>\n",
       "</table>\n",
       "</div>"
      ],
      "text/plain": [
       "         Week  Epidemiology: (United States)\n",
       "0   12/4/2016                             48\n",
       "1  12/11/2016                             35\n",
       "2  12/18/2016                             22\n",
       "3  12/25/2016                             19\n",
       "4    1/1/2017                             22"
      ]
     },
     "execution_count": 3,
     "metadata": {},
     "output_type": "execute_result"
    }
   ],
   "source": [
    "# Read in csv file\n",
    "Epi = pd.read_csv(\"GoogleTrends.csv\")\n",
    "Epi.head()"
   ]
  },
  {
   "cell_type": "markdown",
   "id": "00dbbc41",
   "metadata": {},
   "source": [
    "**Initial Exploration**\n",
    "\n",
    "The plot below looks like it *could* have been stationary, if I had selected a different time frame. However, because of the large peak, I will consider this to be non-stationary. \n",
    "\n",
    "There also appear to be some cyclical peaks and valleys, indicating that these data could be seasonal. Because of this seasonality, I am choosing to run a SARIMA model to fit my data."
   ]
  },
  {
   "cell_type": "code",
   "execution_count": 6,
   "id": "3a526e03",
   "metadata": {},
   "outputs": [
    {
     "data": {
      "text/plain": [
       "<AxesSubplot:>"
      ]
     },
     "execution_count": 6,
     "metadata": {},
     "output_type": "execute_result"
    },
    {
     "data": {
      "image/png": "[encoded data removed]",
      "text/plain": [
       "<Figure size 432x288 with 1 Axes>"
      ]
     },
     "metadata": {
      "needs_background": "light"
     },
     "output_type": "display_data"
    }
   ],
   "source": [
    "# Display a basic understanding of the data\n",
    "Epi.plot()"
   ]
  },
  {
   "cell_type": "code",
   "execution_count": 10,
   "id": "91cec2f2",
   "metadata": {},
   "outputs": [],
   "source": [
    "# Import module to use SARIMAX function \n",
    "# The 'X' just means you can also use exogonous variables, if needed. \n",
    "     # exogonous = variables not affected by other variables\n",
    "from statsmodels.tsa.statespace.sarimax import SARIMAX"
   ]
  },
  {
   "cell_type": "code",
   "execution_count": 23,
   "id": "2bf553e3",
   "metadata": {},
   "outputs": [],
   "source": [
    "# define model configuration\n",
    "\n",
    "# Trend elements\n",
    "   # p = autoregression order = 1\n",
    "   # d = difference order = 1\n",
    "   # q = moving average order = 1\n",
    "my_order = (1, 1, 1)\n",
    "\n",
    "# Seasonal Elements\n",
    "    # P = seasonal autoregression order = 2\n",
    "    # D = seasonal difference order = 1\n",
    "    # Q = seasonal moving average order = 0\n",
    "    # m = time step for single seasonal period\n",
    "           # This is weekly data and the cycles appear to be annual. 52 weeks in a year, so this value is 52.\n",
    "my_seasonal_order = (2, 1, 0, 52)"
   ]
  },
  {
   "cell_type": "code",
   "execution_count": 24,
   "id": "c7f2e936",
   "metadata": {},
   "outputs": [],
   "source": [
    "# Run the model\n",
    "model2 = SARIMAX(Epi['Epidemiology: (United States)'], order=my_order, seasonal_order=my_seasonal_order)"
   ]
  },
  {
   "cell_type": "code",
   "execution_count": 25,
   "id": "33fecd63",
   "metadata": {},
   "outputs": [
    {
     "data": {
      "text/html": [
       "<table class=\"simpletable\">\n",
       "<caption>SARIMAX Results</caption>\n",
       "<tr>\n",
       "  <th>Dep. Variable:</th>    <td>Epidemiology: (United States)</td>  <th>  No. Observations:  </th>    <td>261</td>  \n",
       "</tr>\n",
       "<tr>\n",
       "  <th>Model:</th>           <td>SARIMAX(1, 1, 1)x(2, 1, [], 52)</td> <th>  Log Likelihood     </th> <td>-722.131</td>\n",
       "</tr>\n",
       "<tr>\n",
       "  <th>Date:</th>                   <td>Thu, 02 Dec 2021</td>         <th>  AIC                </th> <td>1454.261</td>\n",
       "</tr>\n",
       "<tr>\n",
       "  <th>Time:</th>                       <td>12:54:40</td>             <th>  BIC                </th> <td>1470.949</td>\n",
       "</tr>\n",
       "<tr>\n",
       "  <th>Sample:</th>                         <td>0</td>                <th>  HQIC               </th> <td>1461.009</td>\n",
       "</tr>\n",
       "<tr>\n",
       "  <th></th>                             <td> - 261</td>              <th>                     </th>     <td> </td>   \n",
       "</tr>\n",
       "<tr>\n",
       "  <th>Covariance Type:</th>               <td>opg</td>               <th>                     </th>     <td> </td>   \n",
       "</tr>\n",
       "</table>\n",
       "<table class=\"simpletable\">\n",
       "<tr>\n",
       "      <td></td>         <th>coef</th>     <th>std err</th>      <th>z</th>      <th>P>|z|</th>  <th>[0.025</th>    <th>0.975]</th>  \n",
       "</tr>\n",
       "<tr>\n",
       "  <th>ar.L1</th>     <td>    0.1103</td> <td>    0.140</td> <td>    0.787</td> <td> 0.431</td> <td>   -0.165</td> <td>    0.385</td>\n",
       "</tr>\n",
       "<tr>\n",
       "  <th>ma.L1</th>     <td>   -0.5038</td> <td>    0.125</td> <td>   -4.014</td> <td> 0.000</td> <td>   -0.750</td> <td>   -0.258</td>\n",
       "</tr>\n",
       "<tr>\n",
       "  <th>ar.S.L52</th>  <td>   -0.6277</td> <td>    0.050</td> <td>  -12.505</td> <td> 0.000</td> <td>   -0.726</td> <td>   -0.529</td>\n",
       "</tr>\n",
       "<tr>\n",
       "  <th>ar.S.L104</th> <td>   -0.2739</td> <td>    0.112</td> <td>   -2.441</td> <td> 0.015</td> <td>   -0.494</td> <td>   -0.054</td>\n",
       "</tr>\n",
       "<tr>\n",
       "  <th>sigma2</th>    <td>   54.3942</td> <td>    2.362</td> <td>   23.028</td> <td> 0.000</td> <td>   49.765</td> <td>   59.024</td>\n",
       "</tr>\n",
       "</table>\n",
       "<table class=\"simpletable\">\n",
       "<tr>\n",
       "  <th>Ljung-Box (L1) (Q):</th>     <td>0.00</td> <th>  Jarque-Bera (JB):  </th> <td>1385.61</td>\n",
       "</tr>\n",
       "<tr>\n",
       "  <th>Prob(Q):</th>                <td>0.97</td> <th>  Prob(JB):          </th>  <td>0.00</td>  \n",
       "</tr>\n",
       "<tr>\n",
       "  <th>Heteroskedasticity (H):</th> <td>2.14</td> <th>  Skew:              </th>  <td>1.16</td>  \n",
       "</tr>\n",
       "<tr>\n",
       "  <th>Prob(H) (two-sided):</th>    <td>0.00</td> <th>  Kurtosis:          </th>  <td>15.43</td> \n",
       "</tr>\n",
       "</table><br/><br/>Warnings:<br/>[1] Covariance matrix calculated using the outer product of gradients (complex-step)."
      ],
      "text/plain": [
       "<class 'statsmodels.iolib.summary.Summary'>\n",
       "\"\"\"\n",
       "                                      SARIMAX Results                                      \n",
       "===========================================================================================\n",
       "Dep. Variable:       Epidemiology: (United States)   No. Observations:                  261\n",
       "Model:             SARIMAX(1, 1, 1)x(2, 1, [], 52)   Log Likelihood                -722.131\n",
       "Date:                             Thu, 02 Dec 2021   AIC                           1454.261\n",
       "Time:                                     12:54:40   BIC                           1470.949\n",
       "Sample:                                          0   HQIC                          1461.009\n",
       "                                             - 261                                         \n",
       "Covariance Type:                               opg                                         \n",
       "==============================================================================\n",
       "                 coef    std err          z      P>|z|      [0.025      0.975]\n",
       "------------------------------------------------------------------------------\n",
       "ar.L1          0.1103      0.140      0.787      0.431      -0.165       0.385\n",
       "ma.L1         -0.5038      0.125     -4.014      0.000      -0.750      -0.258\n",
       "ar.S.L52      -0.6277      0.050    -12.505      0.000      -0.726      -0.529\n",
       "ar.S.L104     -0.2739      0.112     -2.441      0.015      -0.494      -0.054\n",
       "sigma2        54.3942      2.362     23.028      0.000      49.765      59.024\n",
       "===================================================================================\n",
       "Ljung-Box (L1) (Q):                   0.00   Jarque-Bera (JB):              1385.61\n",
       "Prob(Q):                              0.97   Prob(JB):                         0.00\n",
       "Heteroskedasticity (H):               2.14   Skew:                             1.16\n",
       "Prob(H) (two-sided):                  0.00   Kurtosis:                        15.43\n",
       "===================================================================================\n",
       "\n",
       "Warnings:\n",
       "[1] Covariance matrix calculated using the outer product of gradients (complex-step).\n",
       "\"\"\""
      ]
     },
     "execution_count": 25,
     "metadata": {},
     "output_type": "execute_result"
    }
   ],
   "source": [
    "# Fit the model\n",
    "results2 = model2.fit()\n",
    "results2.summary()"
   ]
  },
  {
   "cell_type": "code",
   "execution_count": 26,
   "id": "366c24cd",
   "metadata": {},
   "outputs": [
    {
     "data": {
      "text/plain": [
       "261    21.481949\n",
       "dtype: float64"
      ]
     },
     "execution_count": 26,
     "metadata": {},
     "output_type": "execute_result"
    }
   ],
   "source": [
    "# Make Prediction\n",
    "forecast = results2.forecast()\n",
    "forecast # predicted value of 17.81 search popularity over time."
   ]
  },
  {
   "cell_type": "markdown",
   "id": "1821626c",
   "metadata": {},
   "source": [
    "**Explain Results**\n",
    "\n",
    "- There were 261 observations because there were 261 weeks in my 5-year data series. \n",
    "- The AIC and BIC are both large numbers indicating that this model might not be an excellent fit. This is further emphasized by the log liklihood value of -722.13\n",
    "- If we were to compare this log liklihood to another fit of the data, we could compare to see which fits better. The larger value would be the better fit.\n",
    "- The autoregressive lag variable (ar.LI) is likely not significant because the p-value is 0.43 and the confidence interval crosses zero\n",
    "- All other variables are significant (if aplha is set to 0.05), as they have p-values below 0.05 and the confidence intervals do not cross zero\n",
    "- Sigma2 is just the error term\n",
    "- We can look at the Ljung-Box test to see if the errors in our model are just 'white noise'\n",
    "    - The p-value for this is above 0.05 (0.97), so we can NOT reject the null that the errors are just white noise\n",
    "- We also have a p-value of nearly 0 for our heteroskedasticity. This poses another issue for our forecasting. Because the p-value is below 0.05, we cannot reject the null hypothesis. Basically, the variance of our errors do not remain constant over the course of the model. This is bad for predictions. \n",
    "- According to the Jarque-Bera test, which also has a p-value close to zero, our data are not normally distributed. In fact, we have a positive skew (1.16) and the kurtosis is a large value, indicating skewness and outliers. This is likely due to that one peak in March 2020"
   ]
  },
  {
   "cell_type": "markdown",
   "id": "614048ad",
   "metadata": {},
   "source": [
    "**Conclusion**\n",
    "\n",
    "The seasonal model, as defined above it likely not the best fit for modeling and forecasting the search term \"Epidemiology.\" It is likely that we would need to somehow adjust for that large peak in March of 2020 before running this model to better predict."
   ]
  },
  {
   "cell_type": "markdown",
   "id": "5b4f1c69",
   "metadata": {},
   "source": [
    "**2. What is a fourier transform? Perform one on y = np.cos(x/2), and both show (with code) and explain the key elements.**"
   ]
  },
  {
   "cell_type": "markdown",
   "id": "6fd071d3",
   "metadata": {},
   "source": [
    "A fourier transform helps convert time series signals into a frequency format. By doing this, we can parse different sound waves from each other. This can tell us how often each frequency occured over that time frame."
   ]
  },
  {
   "cell_type": "code",
   "execution_count": 9,
   "id": "60a379f7",
   "metadata": {},
   "outputs": [
    {
     "data": {
      "image/png": "[encoded data removed]",
      "text/plain": [
       "<Figure size 432x288 with 1 Axes>"
      ]
     },
     "metadata": {
      "needs_background": "light"
     },
     "output_type": "display_data"
    }
   ],
   "source": [
    "# Load necessary libraries\n",
    "import numpy as np\n",
    "from scipy import signal\n",
    "\n",
    "# Plot initial graph without the transform\n",
    "x = np.arange(1,100,1)\n",
    "y = np.cos(x/2)\n",
    "plt.plot(x,y)\n",
    "plt.show()"
   ]
  },
  {
   "cell_type": "markdown",
   "id": "c54b2dc8",
   "metadata": {},
   "source": [
    "Because we are just plotting a cosine wave (as opposed to several waves with different wave lengths), we only have one actual frequency to plot. This is displayed in the one peak/spike that we see. Only one frequency has a high intensity."
   ]
  },
  {
   "cell_type": "code",
   "execution_count": 14,
   "id": "faf4bcc7",
   "metadata": {},
   "outputs": [
    {
     "data": {
      "image/png": "[encoded data removed]",
      "text/plain": [
       "<Figure size 432x288 with 1 Axes>"
      ]
     },
     "metadata": {
      "needs_background": "light"
     },
     "output_type": "display_data"
    }
   ],
   "source": [
    "# Conduct the fourier transform\n",
    "transform = np.abs(np.fft.rfft(y))\n",
    "\n",
    "# Get the frequency to be able to plot\n",
    "freqs = np.fft.rfftfreq(len(y))\n",
    "\n",
    "# Plot frequency as x variable and intensity as y variable\n",
    "plt.plot(freqs,transform)\n",
    "\n",
    "# Label our axes\n",
    "plt.xlabel('Frequency')\n",
    "plt.ylabel('Intensity')\n",
    "\n",
    "# Display our plot\n",
    "plt.show()"
   ]
  }
 ],
 "metadata": {
  "kernelspec": {
   "display_name": "Python 3 (ipykernel)",
   "language": "python",
   "name": "python3"
  },
  "language_info": {
   "codemirror_mode": {
    "name": "ipython",
    "version": 3
   },
   "file_extension": ".py",
   "mimetype": "text/x-python",
   "name": "python",
   "nbconvert_exporter": "python",
   "pygments_lexer": "ipython3",
   "version": "3.9.7"
  }
 },
 "nbformat": 4,
 "nbformat_minor": 5
}
