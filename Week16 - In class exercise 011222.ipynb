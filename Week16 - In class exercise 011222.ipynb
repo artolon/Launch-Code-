{
 "cells": [
  {
   "cell_type": "markdown",
   "id": "2cf4931f",
   "metadata": {},
   "source": [
    "# Week16 - Group Exercise"
   ]
  },
  {
   "cell_type": "markdown",
   "id": "58b4fffc",
   "metadata": {},
   "source": [
    "**1. Work to improve the model performance for the diabetes decision tree we created in class. You should be able to improve the precision and recall to be above .8 and .7 respectively. You can improve the preprocessing OR alter the model itself.**"
   ]
  },
  {
   "cell_type": "markdown",
   "id": "654dcc41",
   "metadata": {},
   "source": [
    "**Model Created in Class**"
   ]
  },
  {
   "cell_type": "code",
   "execution_count": 1,
   "id": "5496ac50",
   "metadata": {},
   "outputs": [
    {
     "data": {
      "text/html": [
       "<div>\n",
       "<style scoped>\n",
       "    .dataframe tbody tr th:only-of-type {\n",
       "        vertical-align: middle;\n",
       "    }\n",
       "\n",
       "    .dataframe tbody tr th {\n",
       "        vertical-align: top;\n",
       "    }\n",
       "\n",
       "    .dataframe thead th {\n",
       "        text-align: right;\n",
       "    }\n",
       "</style>\n",
       "<table border=\"1\" class=\"dataframe\">\n",
       "  <thead>\n",
       "    <tr style=\"text-align: right;\">\n",
       "      <th></th>\n",
       "      <th>Pregnancies</th>\n",
       "      <th>Glucose</th>\n",
       "      <th>BloodPressure</th>\n",
       "      <th>SkinThickness</th>\n",
       "      <th>Insulin</th>\n",
       "      <th>BMI</th>\n",
       "      <th>DiabetesPedigreeFunction</th>\n",
       "      <th>Age</th>\n",
       "      <th>Outcome</th>\n",
       "    </tr>\n",
       "  </thead>\n",
       "  <tbody>\n",
       "    <tr>\n",
       "      <th>482</th>\n",
       "      <td>4</td>\n",
       "      <td>85</td>\n",
       "      <td>58</td>\n",
       "      <td>22</td>\n",
       "      <td>49</td>\n",
       "      <td>27.8</td>\n",
       "      <td>0.306</td>\n",
       "      <td>28</td>\n",
       "      <td>0</td>\n",
       "    </tr>\n",
       "    <tr>\n",
       "      <th>266</th>\n",
       "      <td>0</td>\n",
       "      <td>138</td>\n",
       "      <td>0</td>\n",
       "      <td>0</td>\n",
       "      <td>0</td>\n",
       "      <td>36.3</td>\n",
       "      <td>0.933</td>\n",
       "      <td>25</td>\n",
       "      <td>1</td>\n",
       "    </tr>\n",
       "    <tr>\n",
       "      <th>112</th>\n",
       "      <td>1</td>\n",
       "      <td>89</td>\n",
       "      <td>76</td>\n",
       "      <td>34</td>\n",
       "      <td>37</td>\n",
       "      <td>31.2</td>\n",
       "      <td>0.192</td>\n",
       "      <td>23</td>\n",
       "      <td>0</td>\n",
       "    </tr>\n",
       "    <tr>\n",
       "      <th>101</th>\n",
       "      <td>1</td>\n",
       "      <td>151</td>\n",
       "      <td>60</td>\n",
       "      <td>0</td>\n",
       "      <td>0</td>\n",
       "      <td>26.1</td>\n",
       "      <td>0.179</td>\n",
       "      <td>22</td>\n",
       "      <td>0</td>\n",
       "    </tr>\n",
       "    <tr>\n",
       "      <th>278</th>\n",
       "      <td>5</td>\n",
       "      <td>114</td>\n",
       "      <td>74</td>\n",
       "      <td>0</td>\n",
       "      <td>0</td>\n",
       "      <td>24.9</td>\n",
       "      <td>0.744</td>\n",
       "      <td>57</td>\n",
       "      <td>0</td>\n",
       "    </tr>\n",
       "  </tbody>\n",
       "</table>\n",
       "</div>"
      ],
      "text/plain": [
       "     Pregnancies  Glucose  BloodPressure  SkinThickness  Insulin   BMI  \\\n",
       "482            4       85             58             22       49  27.8   \n",
       "266            0      138              0              0        0  36.3   \n",
       "112            1       89             76             34       37  31.2   \n",
       "101            1      151             60              0        0  26.1   \n",
       "278            5      114             74              0        0  24.9   \n",
       "\n",
       "     DiabetesPedigreeFunction  Age  Outcome  \n",
       "482                     0.306   28        0  \n",
       "266                     0.933   25        1  \n",
       "112                     0.192   23        0  \n",
       "101                     0.179   22        0  \n",
       "278                     0.744   57        0  "
      ]
     },
     "execution_count": 1,
     "metadata": {},
     "output_type": "execute_result"
    }
   ],
   "source": [
    "# Load in our modules\n",
    "import pandas as pd\n",
    "import numpy as np\n",
    "from sklearn import tree\n",
    "from sklearn.metrics import classification_report, plot_confusion_matrix\n",
    "\n",
    "# Load in data frame\n",
    "diabetes_df = pd.read_csv('diabetes.csv')\n",
    "# View brief sample of data\n",
    "diabetes_df.sample(5)"
   ]
  },
  {
   "cell_type": "code",
   "execution_count": 2,
   "id": "049e7706",
   "metadata": {},
   "outputs": [],
   "source": [
    "# Import modules from train_test_split\n",
    "from sklearn.model_selection import train_test_split\n",
    "from sklearn.preprocessing import StandardScaler\n",
    "\n",
    "# Split our data into outcome vs. predictors\n",
    "# Predictors\n",
    "X = diabetes_df.drop('Outcome', axis=1)\n",
    "# Outcome\n",
    "y = diabetes_df['Outcome']\n",
    "\n",
    "# Split into training vs. testing data (using model from class to tune)\n",
    "X_train, X_test, y_train, y_test = train_test_split(X, y, test_size = 0.3, random_state=42, stratify=y)\n",
    "\n",
    "# Standardize our data\n",
    "sc=StandardScaler()\n",
    "# Fit the classifier to our training and test sets\n",
    "X_train=sc.fit_transform(X_train)\n",
    "X_test=sc.fit_transform(X_test)"
   ]
  },
  {
   "cell_type": "code",
   "execution_count": 3,
   "id": "631b62f2",
   "metadata": {},
   "outputs": [],
   "source": [
    "# Create the decision tree classifier\n",
    "tree_model = tree.DecisionTreeClassifier(max_depth = 8, random_state=42)"
   ]
  },
  {
   "cell_type": "code",
   "execution_count": 4,
   "id": "5ad5f7a3",
   "metadata": {},
   "outputs": [
    {
     "name": "stdout",
     "output_type": "stream",
     "text": [
      "              precision    recall  f1-score   support\n",
      "\n",
      "           0       0.79      0.83      0.81       150\n",
      "           1       0.66      0.59      0.62        81\n",
      "\n",
      "    accuracy                           0.75       231\n",
      "   macro avg       0.72      0.71      0.72       231\n",
      "weighted avg       0.74      0.75      0.75       231\n",
      "\n"
     ]
    }
   ],
   "source": [
    "# Fit the classifier to our training data\n",
    "tree_model = tree_model.fit(X_train, y_train)\n",
    "# Find my predicted values from the model\n",
    "y_pred = tree_model.predict(X_test)\n",
    "# Print the classification report\n",
    "print(classification_report(y_test, y_pred))"
   ]
  },
  {
   "cell_type": "markdown",
   "id": "f94586dc",
   "metadata": {},
   "source": [
    "**Model Refinement: RandomOverSampler Technique**\n",
    "\n",
    "After a lot of trial and error, I decided to attempt resampling in order to increase the minority population in our data set and to improve the precision and recall of the decision tree model. Afterwards, I fit the model to the resampled data. "
   ]
  },
  {
   "cell_type": "code",
   "execution_count": 5,
   "id": "ef6ea339",
   "metadata": {},
   "outputs": [],
   "source": [
    "# Import module to use RandomOverSampler\n",
    "from imblearn.over_sampling import RandomOverSampler\n",
    "\n",
    "# Instantiate the classifier\n",
    "ros = RandomOverSampler(sampling_strategy='minority', shrinkage=1, random_state=33)\n",
    "\n",
    "# Resample the training data, based on our classifier\n",
    "X_res, y_res = ros.fit_resample(X_train, y_train)"
   ]
  },
  {
   "cell_type": "code",
   "execution_count": 6,
   "id": "d27e39a7",
   "metadata": {},
   "outputs": [],
   "source": [
    "# Instantiate the decision tree classifier\n",
    "res_model = tree.DecisionTreeClassifier(max_depth=11, random_state=33)"
   ]
  },
  {
   "cell_type": "code",
   "execution_count": 7,
   "id": "8cd40348",
   "metadata": {},
   "outputs": [
    {
     "name": "stdout",
     "output_type": "stream",
     "text": [
      "              precision    recall  f1-score   support\n",
      "\n",
      "           0       0.81      0.65      0.72       150\n",
      "           1       0.52      0.72      0.60        81\n",
      "\n",
      "    accuracy                           0.67       231\n",
      "   macro avg       0.67      0.68      0.66       231\n",
      "weighted avg       0.71      0.67      0.68       231\n",
      "\n"
     ]
    }
   ],
   "source": [
    "# Fit the decision tree model to our resampled data\n",
    "new_model = res_model.fit(X_res, y_res)\n",
    "# Find my predicted values from the new model\n",
    "y_pred = new_model.predict(X_test)\n",
    "# Print the classification report\n",
    "print(classification_report(y_test, y_pred))"
   ]
  },
  {
   "cell_type": "markdown",
   "id": "c569e460",
   "metadata": {},
   "source": [
    "By resampling the data, I was able to boost the recall to 72%, which is a bit better than the original model from class. However, my precision dropped! Below, I tried to tune the decision tree classifier in order to increase the precision of my model"
   ]
  },
  {
   "cell_type": "markdown",
   "id": "2a1951d2",
   "metadata": {},
   "source": [
    "**Model Refinement: Randomized Search**\n",
    "\n",
    "I am using the randomized search method to try and tune the decision tree model, based on my resampled data. Hopefully, this will increase the precision."
   ]
  },
  {
   "cell_type": "code",
   "execution_count": 51,
   "id": "f74fd0ea",
   "metadata": {},
   "outputs": [],
   "source": [
    "# Import to search for best parameters\n",
    "from sklearn.model_selection import RandomizedSearchCV\n",
    "\n",
    "# Setup the parameters that we will test on our decision tree\n",
    "param_dict = {\"max_depth\": [11],\n",
    "              \"max_features\": range(1,4),\n",
    "              \"min_samples_leaf\": range(1,15),\n",
    "              \"criterion\": [\"gini\"],\n",
    "              \"splitter\": [\"best\"]}\n",
    "\n",
    "from sklearn import tree\n",
    "\n",
    "# Instantiate the classifier\n",
    "trees = tree.DecisionTreeClassifier()\n",
    "\n",
    "# Dictionary of scoring measures\n",
    "scores = {'recall': \"recall\", \"precision\":\"precision\"}"
   ]
  },
  {
   "cell_type": "code",
   "execution_count": 52,
   "id": "5feeb7a0",
   "metadata": {},
   "outputs": [
    {
     "name": "stdout",
     "output_type": "stream",
     "text": [
      "Tuned Decision Tree Parameters: {'splitter': 'best', 'min_samples_leaf': 8, 'max_features': 3, 'max_depth': 11, 'criterion': 'gini'}\n",
      "Best score is 0.727660986071604\n"
     ]
    }
   ],
   "source": [
    "# Run the decision tree model through the search, using the specified parameters and 5 crossfold validation\n",
    "random = RandomizedSearchCV(trees, \n",
    "                            n_iter = 20,\n",
    "                            param_distributions = param_dict, \n",
    "                            cv=10,\n",
    "                            scoring = scores,\n",
    "                            refit=\"precision\",\n",
    "                            random_state=33)\n",
    "\n",
    "# Fit the search to our resampled data\n",
    "random.fit(X_res, y_res)\n",
    "\n",
    "# Print the tuned parameters and score\n",
    "print(\"Tuned Decision Tree Parameters: {}\".format(random.best_params_))\n",
    "print(\"Best score is {}\".format(random.best_score_))"
   ]
  },
  {
   "cell_type": "markdown",
   "id": "d7a8c0df",
   "metadata": {},
   "source": [
    "**Final Model**\n",
    "\n",
    "The model below yielded the highest combination of precision and recall. Of all the models, this one performs the best. It has the highest accuracy, as well as the highest recall and precision. After finding this model, I went back to previous steps and tried to keep tuning different parameters and was experimenting to further increase the precision. When I did so, the recall would lower quite a bit. The model below seemed to be the best overall combination."
   ]
  },
  {
   "cell_type": "code",
   "execution_count": 61,
   "id": "820f4a59",
   "metadata": {},
   "outputs": [],
   "source": [
    "# Re-run the model with the best parameters\n",
    "from sklearn import tree\n",
    "best_model = tree.DecisionTreeClassifier(splitter='best', min_samples_leaf=13, max_features=4, max_depth = 11, \n",
    "                                          criterion='gini', random_state=33)"
   ]
  },
  {
   "cell_type": "code",
   "execution_count": 62,
   "id": "1dde242e",
   "metadata": {},
   "outputs": [
    {
     "name": "stdout",
     "output_type": "stream",
     "text": [
      "              precision    recall  f1-score   support\n",
      "\n",
      "           0       0.85      0.83      0.84       150\n",
      "           1       0.70      0.73      0.72        81\n",
      "\n",
      "    accuracy                           0.80       231\n",
      "   macro avg       0.78      0.78      0.78       231\n",
      "weighted avg       0.80      0.80      0.80       231\n",
      "\n"
     ]
    }
   ],
   "source": [
    "# Fit the new model to our testing data\n",
    "best_model.fit(X_res, y_res)\n",
    "# Find the predicted values\n",
    "y_pred_best = best_model.predict(X_test)\n",
    "# Print the classification report\n",
    "print(classification_report(y_test, y_pred_best))"
   ]
  },
  {
   "cell_type": "markdown",
   "id": "abc74f25",
   "metadata": {},
   "source": [
    "**2. Create a function that accepts an array of names and returns a string formatted as a list of names separated by commas EXCEPT for the last two names, which are separated by an ampersand (and sign - &)**\n",
    "\n",
    "*Example input:*\n",
    "\n",
    "[ {'name': 'Nichole'}, {'name': 'Tanisha'}, {'name': 'Maggie'} ]\n",
    "\n",
    "\n",
    "*Example output:*\n",
    "\n",
    "Nichole, Tanisha & Maggie"
   ]
  },
  {
   "cell_type": "code",
   "execution_count": 152,
   "id": "ef85656d",
   "metadata": {},
   "outputs": [],
   "source": [
    "# Define my function\n",
    "def organize_name(array):\n",
    "    # Create any empty list to append the names\n",
    "    name_string = []\n",
    "    # Iterate through the items in the array\n",
    "    for name in array:\n",
    "        # Iterate through the keys and values in the name item\n",
    "        for key, value in name.items():\n",
    "            # Append the values (which are the names) to the empty list\n",
    "            name_string.append(value)\n",
    "    # Create new object called \"organized names\"\n",
    "    # Join all of the items in name_string with ', ' to separate by a comma\n",
    "    # Split the string where the last comma is\n",
    "    # Join the strings together, but this time with ampersand\n",
    "    organized_names = ' & '.join(', '.join(name_string).rsplit(', ', 1))\n",
    "    print(organized_names)"
   ]
  },
  {
   "cell_type": "code",
   "execution_count": 153,
   "id": "b004aea2",
   "metadata": {},
   "outputs": [
    {
     "data": {
      "text/plain": [
       "[{'name': 'Nichole'}, {'name': 'Tanisha'}, {'name': 'Maggie'}]"
      ]
     },
     "execution_count": 153,
     "metadata": {},
     "output_type": "execute_result"
    }
   ],
   "source": [
    "# Sample array output\n",
    "name_array = [ {'name': 'Nichole'}, {'name': 'Tanisha'}, {'name': 'Maggie'} ]\n",
    "name_array"
   ]
  },
  {
   "cell_type": "code",
   "execution_count": 155,
   "id": "1a4def35",
   "metadata": {},
   "outputs": [
    {
     "name": "stdout",
     "output_type": "stream",
     "text": [
      "Nichole, Tanisha & Maggie\n"
     ]
    }
   ],
   "source": [
    "# Call function to test\n",
    "organize_name(name_array)"
   ]
  },
  {
   "cell_type": "code",
   "execution_count": 156,
   "id": "e45a76cd",
   "metadata": {},
   "outputs": [
    {
     "data": {
      "text/plain": [
       "[{'name': 'Nichole'},\n",
       " {'name': 'Tanisha'},\n",
       " {'name': 'Maggie'},\n",
       " {'name': 'Sam'},\n",
       " {'name': 'Don'},\n",
       " {'name': 'Joe'}]"
      ]
     },
     "execution_count": 156,
     "metadata": {},
     "output_type": "execute_result"
    }
   ],
   "source": [
    "# Try with other array\n",
    "new_array = [ {'name': 'Nichole'}, {'name': 'Tanisha'}, {'name': 'Maggie'}, {'name': 'Sam'}, \n",
    "             {'name': 'Don'}, {'name': 'Joe'}  ]\n",
    "new_array"
   ]
  },
  {
   "cell_type": "code",
   "execution_count": 157,
   "id": "d4cb5d78",
   "metadata": {},
   "outputs": [
    {
     "name": "stdout",
     "output_type": "stream",
     "text": [
      "Nichole, Tanisha, Maggie, Sam, Don & Joe\n"
     ]
    }
   ],
   "source": [
    "# Test function\n",
    "organize_name(new_array)"
   ]
  }
 ],
 "metadata": {
  "kernelspec": {
   "display_name": "Python 3 (ipykernel)",
   "language": "python",
   "name": "python3"
  },
  "language_info": {
   "codemirror_mode": {
    "name": "ipython",
    "version": 3
   },
   "file_extension": ".py",
   "mimetype": "text/x-python",
   "name": "python",
   "nbconvert_exporter": "python",
   "pygments_lexer": "ipython3",
   "version": "3.9.7"
  }
 },
 "nbformat": 4,
 "nbformat_minor": 5
}
