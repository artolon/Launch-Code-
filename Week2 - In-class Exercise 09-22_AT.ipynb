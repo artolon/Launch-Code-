{
 "cells": [
  {
   "cell_type": "code",
   "execution_count": 1,
   "id": "86e4ffe5",
   "metadata": {},
   "outputs": [
    {
     "name": "stdout",
     "output_type": "stream",
     "text": [
      "Weird\n",
      "Not Weird\n"
     ]
    }
   ],
   "source": [
    "# Write a function that takes an integer n \n",
    "   #and performs the following conditions\n",
    "\n",
    "def Weird_function(n):\n",
    "    \n",
    "    if n%2!=0:\n",
    "        print(\"Weird\")\n",
    "        \n",
    "    elif n%2==0 and n in range(2,6):\n",
    "        print(\"Not Weird\")\n",
    "        \n",
    "    elif n%2==0 and n in range(6,21): \n",
    "        print(\"Weird\")\n",
    "        \n",
    "    elif n%2==0 and n>20:\n",
    "        print(\"Not Weird\")\n",
    "    \n",
    "    while n <=100:\n",
    "        #print(n)\n",
    "        n+=1\n",
    "\n",
    "Weird_function(3)\n",
    "Weird_function(24)\n",
    "        \n",
    "#n = int(input('Enter a number'))"
   ]
  },
  {
   "cell_type": "code",
   "execution_count": 26,
   "id": "a6d70e87",
   "metadata": {},
   "outputs": [],
   "source": [
    "def Weird_function(n):\n",
    "    if (1<=n<=100):\n",
    "        if (n%2)!=0: # if n is odd...\n",
    "            print(\"Weird\")\n",
    "            \n",
    "        elif (n%2)==0: # if n is even...\n",
    "            if n in range (2,6):\n",
    "                print(\"Not Weird\")\n",
    "            elif n in range (6,21):\n",
    "                print(\"Weird\")\n",
    "            elif n>20:\n",
    "                print(\"Not Weird\")\n",
    "    else:\n",
    "        print(\"end of range\")"
   ]
  },
  {
   "cell_type": "code",
   "execution_count": 27,
   "id": "461a57da",
   "metadata": {},
   "outputs": [
    {
     "name": "stdout",
     "output_type": "stream",
     "text": [
      "Weird\n",
      "Weird\n",
      "Weird\n"
     ]
    }
   ],
   "source": [
    "# If n is odd, print Weird\n",
    "Weird_function(27)\n",
    "Weird_function(3)\n",
    "Weird_function(91)"
   ]
  },
  {
   "cell_type": "code",
   "execution_count": 16,
   "id": "9f58e032",
   "metadata": {},
   "outputs": [
    {
     "name": "stdout",
     "output_type": "stream",
     "text": [
      "Not Weird\n",
      "Not Weird\n"
     ]
    }
   ],
   "source": [
    "# If n is even and in range 2,5 print Not Weird\n",
    "Weird_function(2)\n",
    "Weird_function(4)"
   ]
  },
  {
   "cell_type": "code",
   "execution_count": 19,
   "id": "4289daee",
   "metadata": {},
   "outputs": [
    {
     "name": "stdout",
     "output_type": "stream",
     "text": [
      "Weird\n",
      "Weird\n",
      "Weird\n"
     ]
    }
   ],
   "source": [
    "# If n is even and in range 6,20 print Weird\n",
    "Weird_function(8)\n",
    "Weird_function(10)\n",
    "Weird_function(18)"
   ]
  },
  {
   "cell_type": "code",
   "execution_count": 20,
   "id": "eddeffbb",
   "metadata": {},
   "outputs": [
    {
     "name": "stdout",
     "output_type": "stream",
     "text": [
      "Not Weird\n",
      "Not Weird\n",
      "Not Weird\n"
     ]
    }
   ],
   "source": [
    "# If n is even and greater than 20 print Not Weird\n",
    "Weird_function(24)\n",
    "Weird_function(92)\n",
    "Weird_function(88)"
   ]
  }
 ],
 "metadata": {
  "kernelspec": {
   "display_name": "Python 3 (ipykernel)",
   "language": "python",
   "name": "python3"
  },
  "language_info": {
   "codemirror_mode": {
    "name": "ipython",
    "version": 3
   },
   "file_extension": ".py",
   "mimetype": "text/x-python",
   "name": "python",
   "nbconvert_exporter": "python",
   "pygments_lexer": "ipython3",
   "version": "3.9.7"
  }
 },
 "nbformat": 4,
 "nbformat_minor": 5
}
